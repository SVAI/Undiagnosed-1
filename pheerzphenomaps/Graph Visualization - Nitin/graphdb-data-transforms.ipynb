{
 "cells": [
  {
   "cell_type": "markdown",
   "metadata": {},
   "source": [
    "# Phenotypes & Genes Map"
   ]
  },
  {
   "cell_type": "markdown",
   "metadata": {},
   "source": [
    "In this notebook, we load the manually (or using a software like Qiagen) curated list of genes of John, fetch each of their phenotypes from http://uswest.ensembl.org 's database and feed into a graph database for visualization of their relationships"
   ]
  },
  {
   "cell_type": "code",
   "execution_count": 14,
   "metadata": {},
   "outputs": [],
   "source": [
    "import pandas as pd\n",
    "from itertools import chain"
   ]
  },
  {
   "cell_type": "markdown",
   "metadata": {},
   "source": [
    "## Import Genes"
   ]
  },
  {
   "cell_type": "code",
   "execution_count": 2,
   "metadata": {},
   "outputs": [],
   "source": [
    "gene_names_raw = pd.read_csv(\"notcleanedofcommonvariants-BiologicalContext-5.csv\")"
   ]
  },
  {
   "cell_type": "code",
   "execution_count": 3,
   "metadata": {},
   "outputs": [
    {
     "data": {
      "text/html": [
       "<div>\n",
       "<style scoped>\n",
       "    .dataframe tbody tr th:only-of-type {\n",
       "        vertical-align: middle;\n",
       "    }\n",
       "\n",
       "    .dataframe tbody tr th {\n",
       "        vertical-align: top;\n",
       "    }\n",
       "\n",
       "    .dataframe thead th {\n",
       "        text-align: right;\n",
       "    }\n",
       "</style>\n",
       "<table border=\"1\" class=\"dataframe\">\n",
       "  <thead>\n",
       "    <tr style=\"text-align: right;\">\n",
       "      <th></th>\n",
       "      <th>Gene Symbol</th>\n",
       "    </tr>\n",
       "  </thead>\n",
       "  <tbody>\n",
       "    <tr>\n",
       "      <th>0</th>\n",
       "      <td>EMG1; PHB2</td>\n",
       "    </tr>\n",
       "    <tr>\n",
       "      <th>1</th>\n",
       "      <td>GLB1; TMPPE</td>\n",
       "    </tr>\n",
       "    <tr>\n",
       "      <th>2</th>\n",
       "      <td>CEP57L1; SESN1</td>\n",
       "    </tr>\n",
       "    <tr>\n",
       "      <th>3</th>\n",
       "      <td>UBB</td>\n",
       "    </tr>\n",
       "    <tr>\n",
       "      <th>4</th>\n",
       "      <td>DNAJB1; TECR</td>\n",
       "    </tr>\n",
       "  </tbody>\n",
       "</table>\n",
       "</div>"
      ],
      "text/plain": [
       "      Gene Symbol\n",
       "0      EMG1; PHB2\n",
       "1     GLB1; TMPPE\n",
       "2  CEP57L1; SESN1\n",
       "3             UBB\n",
       "4    DNAJB1; TECR"
      ]
     },
     "execution_count": 3,
     "metadata": {},
     "output_type": "execute_result"
    }
   ],
   "source": [
    "gene_names_raw.head()"
   ]
  },
  {
   "cell_type": "code",
   "execution_count": 12,
   "metadata": {},
   "outputs": [],
   "source": [
    "genes_df = gene_names_raw.apply( lambda g: g[\"Gene Symbol\"].split(\";\"), axis=1 )"
   ]
  },
  {
   "cell_type": "code",
   "execution_count": 64,
   "metadata": {},
   "outputs": [],
   "source": [
    "genes_raw = list(chain.from_iterable( genes_df.tolist() ))"
   ]
  },
  {
   "cell_type": "code",
   "execution_count": 70,
   "metadata": {},
   "outputs": [],
   "source": [
    "genes = map( lambda g: g.strip(), genes_raw )"
   ]
  },
  {
   "cell_type": "code",
   "execution_count": 71,
   "metadata": {},
   "outputs": [
    {
     "data": {
      "text/plain": [
       "432"
      ]
     },
     "execution_count": 71,
     "metadata": {},
     "output_type": "execute_result"
    }
   ],
   "source": [
    "len(genes)"
   ]
  },
  {
   "cell_type": "markdown",
   "metadata": {},
   "source": [
    "Save results to disk"
   ]
  },
  {
   "cell_type": "code",
   "execution_count": 84,
   "metadata": {},
   "outputs": [],
   "source": [
    "pd.DataFrame(genes, columns=[\"gene\"]).to_csv(\"genes_list.csv\", index=False)"
   ]
  },
  {
   "cell_type": "markdown",
   "metadata": {},
   "source": [
    "## Fetch Phenotypes"
   ]
  },
  {
   "cell_type": "markdown",
   "metadata": {},
   "source": [
    "1. REST API for fetching phenotypes http://rest.ensembl.org/documentation/info/phenotype_gene\n",
    "2. http://uswest.ensembl.org/Homo_sapiens/Gene/Phenotype?db=core;g=ENSG00000139618;r=13:32315474-32400266"
   ]
  },
  {
   "cell_type": "code",
   "execution_count": 86,
   "metadata": {},
   "outputs": [],
   "source": [
    "import requests\n",
    "from time import sleep\n",
    "from json import dump"
   ]
  },
  {
   "cell_type": "code",
   "execution_count": 30,
   "metadata": {},
   "outputs": [],
   "source": [
    "url = \"http://rest.ensembl.org/phenotype/gene/homo_sapiens/{gene}\""
   ]
  },
  {
   "cell_type": "code",
   "execution_count": 54,
   "metadata": {},
   "outputs": [],
   "source": [
    "phenotypes_per_gene = {}"
   ]
  },
  {
   "cell_type": "code",
   "execution_count": 76,
   "metadata": {},
   "outputs": [],
   "source": [
    "r = requests.get( url.format(gene=genes[0]), headers={'Content-type': 'application/json'} )"
   ]
  },
  {
   "cell_type": "code",
   "execution_count": 78,
   "metadata": {},
   "outputs": [
    {
     "name": "stdout",
     "output_type": "stream",
     "text": [
      "Fetched 0 genes' info\n",
      "Fetched 100 genes' info\n",
      "Fetched 300 genes' info\n",
      "Fetched 400 genes' info\n",
      "CPU times: user 2.09 s, sys: 272 ms, total: 2.36 s\n",
      "Wall time: 4min 59s\n"
     ]
    }
   ],
   "source": [
    "%%time\n",
    "\n",
    "unknown_genes = []\n",
    "failed_requests = []\n",
    "for i, g in enumerate(genes):\n",
    "    r = requests.get( url.format(gene=g), headers={'Content-type': 'application/json'} )\n",
    "    try:\n",
    "        resp = r.json()\n",
    "        if type(resp) == dict and \"error\" in resp:\n",
    "            unknown_genes.append(g)\n",
    "            continue\n",
    "\n",
    "        phenotypes_raw = map( lambda phenotype: phenotype.get(\"description\", \"\"), r.json() )\n",
    "        phenotypes = filter( lambda phenotype: len(phenotype) > 1, phenotypes_raw )\n",
    "        phenotypes_per_gene[g] = phenotypes\n",
    "    except ValueError:\n",
    "        failed_requests.append(g)\n",
    "    \n",
    "    sleep(0.05) # be kind to the API :P\n",
    "    if i % 100 == 0:\n",
    "        print( \"Fetched {} genes' info\".format(i) )"
   ]
  },
  {
   "cell_type": "code",
   "execution_count": 81,
   "metadata": {},
   "outputs": [
    {
     "data": {
      "text/plain": [
       "60"
      ]
     },
     "execution_count": 81,
     "metadata": {},
     "output_type": "execute_result"
    }
   ],
   "source": [
    "len(unknown_genes)"
   ]
  },
  {
   "cell_type": "code",
   "execution_count": 82,
   "metadata": {},
   "outputs": [
    {
     "data": {
      "text/plain": [
       "0"
      ]
     },
     "execution_count": 82,
     "metadata": {},
     "output_type": "execute_result"
    }
   ],
   "source": [
    "len(failed_requests)"
   ]
  },
  {
   "cell_type": "markdown",
   "metadata": {},
   "source": [
    "Number of genes for which phenotypes are found"
   ]
  },
  {
   "cell_type": "code",
   "execution_count": 27,
   "metadata": {},
   "outputs": [
    {
     "data": {
      "text/plain": [
       "92"
      ]
     },
     "execution_count": 27,
     "metadata": {},
     "output_type": "execute_result"
    }
   ],
   "source": [
    "len( filter(lambda v: len(v) > 0, phenotypes_per_gene.values() ) )"
   ]
  },
  {
   "cell_type": "markdown",
   "metadata": {},
   "source": [
    "Save results to disk"
   ]
  },
  {
   "cell_type": "code",
   "execution_count": 87,
   "metadata": {},
   "outputs": [],
   "source": [
    "with open(\"gene_phenotypes_map.json\", \"w\") as fp:\n",
    "    dump(phenotypes_per_gene, fp)"
   ]
  },
  {
   "cell_type": "markdown",
   "metadata": {},
   "source": [
    "### Push Gene-Phenotypes to Neo4J"
   ]
  },
  {
   "cell_type": "code",
   "execution_count": 8,
   "metadata": {},
   "outputs": [
    {
     "name": "stdout",
     "output_type": "stream",
     "text": [
      "\u001b[31mtwisted 18.7.0 requires PyHamcrest>=1.9.0, which is not installed.\u001b[0m\n",
      "\u001b[31mgrin 1.2.1 requires argparse>=1.1, which is not installed.\u001b[0m\n",
      "\u001b[31mipython 5.8.0 has requirement prompt-toolkit<2.0.0,>=1.0.4, but you'll have prompt-toolkit 2.0.9 which is incompatible.\u001b[0m\n",
      "\u001b[31mjupyter-console 5.2.0 has requirement prompt-toolkit<2.0.0,>=1.0.0, but you'll have prompt-toolkit 2.0.9 which is incompatible.\u001b[0m\n",
      "\u001b[33mYou are using pip version 10.0.1, however version 19.1.1 is available.\n",
      "You should consider upgrading via the 'pip install --upgrade pip' command.\u001b[0m\n"
     ]
    }
   ],
   "source": [
    "! pip install -q py2neo"
   ]
  },
  {
   "cell_type": "code",
   "execution_count": 38,
   "metadata": {},
   "outputs": [],
   "source": [
    "from py2neo import Graph\n",
    "from json import load"
   ]
  },
  {
   "cell_type": "markdown",
   "metadata": {},
   "source": [
    "Start neo4j graph database server locally. Then execute the below line to connect to it"
   ]
  },
  {
   "cell_type": "code",
   "execution_count": 39,
   "metadata": {},
   "outputs": [],
   "source": [
    "graph = Graph(password = \"1234\")"
   ]
  },
  {
   "cell_type": "code",
   "execution_count": 14,
   "metadata": {},
   "outputs": [],
   "source": [
    "# load phenotype & genes map\n",
    "with open(\"gene_phenotypes_map.json\", \"r\") as fp:\n",
    "    phenotypes_per_gene = load(fp)"
   ]
  },
  {
   "cell_type": "code",
   "execution_count": 24,
   "metadata": {},
   "outputs": [
    {
     "name": "stdout",
     "output_type": "stream",
     "text": [
      "CPU times: user 1.91 s, sys: 157 ms, total: 2.07 s\n",
      "Wall time: 13.7 s\n"
     ]
    }
   ],
   "source": [
    "%%time\n",
    "\n",
    "for i, gene in enumerate(phenotypes_per_gene):\n",
    "    phenotypes = phenotypes_per_gene[gene]\n",
    "    for phenotype in phenotypes:\n",
    "        create_query = \"\"\"\n",
    "            MERGE (g:Gene {name: \"%(gene_name)s\"})\n",
    "            MERGE (p:Phenotype {name: \"%(phenotype_name)s\"})\n",
    "            MERGE (g)-[r:causes]->(p)\n",
    "            RETURN g, r, p\n",
    "        \"\"\" % {\"gene_name\": gene, \"phenotype_name\": phenotype}\n",
    "        graph.run(create_query)\n",
    "        \n",
    "        if i % 100 == 0:\n",
    "            print( \"Saved {} genes to Graph DB\".format(i) )"
   ]
  },
  {
   "cell_type": "code",
   "execution_count": 25,
   "metadata": {},
   "outputs": [
    {
     "data": {
      "text/plain": [
       "241"
      ]
     },
     "execution_count": 25,
     "metadata": {},
     "output_type": "execute_result"
    }
   ],
   "source": [
    "len(phenotypes_per_gene.keys())"
   ]
  },
  {
   "cell_type": "markdown",
   "metadata": {},
   "source": [
    "## Metabolic Pathways"
   ]
  },
  {
   "cell_type": "markdown",
   "metadata": {},
   "source": [
    "Link Genes to Metabolic Pathways"
   ]
  },
  {
   "cell_type": "code",
   "execution_count": 36,
   "metadata": {},
   "outputs": [],
   "source": [
    "from json import dump"
   ]
  },
  {
   "cell_type": "code",
   "execution_count": 28,
   "metadata": {},
   "outputs": [],
   "source": [
    "pathways_per_gene = {}"
   ]
  },
  {
   "cell_type": "code",
   "execution_count": 33,
   "metadata": {},
   "outputs": [],
   "source": [
    "with open(\"keggGeneMapping.txt\", \"r\") as fp:\n",
    "    for l in fp:\n",
    "        records = filter( lambda y: len(y) > 0, map( lambda x: x.strip(), l.strip().split(\"\\t\") ) )\n",
    "        gene = records[0]\n",
    "        pathways = records[1:]\n",
    "        pathways_per_gene[gene] = pathways"
   ]
  },
  {
   "cell_type": "markdown",
   "metadata": {},
   "source": [
    "Save the pathways as JSON to disk"
   ]
  },
  {
   "cell_type": "code",
   "execution_count": 37,
   "metadata": {},
   "outputs": [],
   "source": [
    "with open(\"pathways_per_gene.json\", \"w\") as fp:\n",
    "    dump(pathways_per_gene, fp)"
   ]
  },
  {
   "cell_type": "markdown",
   "metadata": {},
   "source": [
    "### Push Pathways to Neo4J"
   ]
  },
  {
   "cell_type": "code",
   "execution_count": 8,
   "metadata": {},
   "outputs": [
    {
     "name": "stdout",
     "output_type": "stream",
     "text": [
      "\u001b[31mtwisted 18.7.0 requires PyHamcrest>=1.9.0, which is not installed.\u001b[0m\n",
      "\u001b[31mgrin 1.2.1 requires argparse>=1.1, which is not installed.\u001b[0m\n",
      "\u001b[31mipython 5.8.0 has requirement prompt-toolkit<2.0.0,>=1.0.4, but you'll have prompt-toolkit 2.0.9 which is incompatible.\u001b[0m\n",
      "\u001b[31mjupyter-console 5.2.0 has requirement prompt-toolkit<2.0.0,>=1.0.0, but you'll have prompt-toolkit 2.0.9 which is incompatible.\u001b[0m\n",
      "\u001b[33mYou are using pip version 10.0.1, however version 19.1.1 is available.\n",
      "You should consider upgrading via the 'pip install --upgrade pip' command.\u001b[0m\n"
     ]
    }
   ],
   "source": [
    "! pip install -q py2neo"
   ]
  },
  {
   "cell_type": "code",
   "execution_count": 42,
   "metadata": {},
   "outputs": [],
   "source": [
    "from py2neo import Graph\n",
    "from json import load\n",
    "import os"
   ]
  },
  {
   "cell_type": "markdown",
   "metadata": {},
   "source": [
    "Start neo4j graph database server locally. Then execute the below line to connect to it"
   ]
  },
  {
   "cell_type": "code",
   "execution_count": 48,
   "metadata": {},
   "outputs": [],
   "source": [
    "graph = Graph(password = \"1234\")"
   ]
  },
  {
   "cell_type": "code",
   "execution_count": 40,
   "metadata": {},
   "outputs": [],
   "source": [
    "# load phenotype & genes map\n",
    "with open(\"pathways_per_gene.json\", \"r\") as fp:\n",
    "    pathways_per_gene = load(fp)"
   ]
  },
  {
   "cell_type": "code",
   "execution_count": 41,
   "metadata": {},
   "outputs": [],
   "source": [
    "PATHWAY_IMAGES_FOLDER = \"./pathview_images_full/\""
   ]
  },
  {
   "cell_type": "code",
   "execution_count": 52,
   "metadata": {},
   "outputs": [
    {
     "name": "stdout",
     "output_type": "stream",
     "text": [
      "Saved 0 pathways to Graph DB\n",
      "Saved 100 pathways to Graph DB\n",
      "Saved 200 pathways to Graph DB\n",
      "CPU times: user 2.41 s, sys: 323 ms, total: 2.73 s\n",
      "Wall time: 13.4 s\n"
     ]
    }
   ],
   "source": [
    "%%time\n",
    "\n",
    "missing_pathway_files = []\n",
    "\n",
    "pathway_png_template = \"hsa%(pathway)s.pathview.png\"\n",
    "for i, pathway in enumerate(pathways_per_gene):\n",
    "    pathway_png = os.path.join( PATHWAY_IMAGES_FOLDER, pathway_png_template % {\"pathway\": pathway} )\n",
    "    if not os.path.exists(pathway_png):\n",
    "        pathway_png = \"Yet to generate a pathway for me\"\n",
    "        missing_pathway_files.append(pathway)\n",
    "    \n",
    "    genes = pathways_per_gene[pathway]\n",
    "    for gene in genes:\n",
    "        create_query = \"\"\"\n",
    "            MERGE (g:Gene {name: \"%(gene_name)s\"})\n",
    "            MERGE (p:Pathway {name: \"%(pathway)s\", pathway_png: \"%(pathway_png)s\"})\n",
    "            MERGE (g)-[r:is_in]->(p)\n",
    "            RETURN g, r, p\n",
    "        \"\"\" % {\"gene_name\": gene, \"pathway\": pathway, \"pathway_png\": pathway_png}\n",
    "        graph.run(create_query)\n",
    "        \n",
    "    if i % 100 == 0:\n",
    "        print( \"Saved {} pathways to Graph DB\".format(i) )"
   ]
  },
  {
   "cell_type": "code",
   "execution_count": 53,
   "metadata": {},
   "outputs": [
    {
     "data": {
      "text/plain": [
       "292"
      ]
     },
     "execution_count": 53,
     "metadata": {},
     "output_type": "execute_result"
    }
   ],
   "source": [
    "len(pathways_per_gene.keys())"
   ]
  },
  {
   "cell_type": "markdown",
   "metadata": {},
   "source": [
    "## Variants & Genes"
   ]
  },
  {
   "cell_type": "code",
   "execution_count": 1,
   "metadata": {},
   "outputs": [],
   "source": [
    "import pandas as pd"
   ]
  },
  {
   "cell_type": "code",
   "execution_count": 2,
   "metadata": {},
   "outputs": [],
   "source": [
    "v_df = pd.read_csv(\"variants_file_svai.csv\")"
   ]
  },
  {
   "cell_type": "code",
   "execution_count": 3,
   "metadata": {},
   "outputs": [
    {
     "data": {
      "text/plain": [
       "(120430, 6)"
      ]
     },
     "execution_count": 3,
     "metadata": {},
     "output_type": "execute_result"
    }
   ],
   "source": [
    "v_df.shape"
   ]
  },
  {
   "cell_type": "code",
   "execution_count": 4,
   "metadata": {},
   "outputs": [
    {
     "data": {
      "text/html": [
       "<div>\n",
       "<style scoped>\n",
       "    .dataframe tbody tr th:only-of-type {\n",
       "        vertical-align: middle;\n",
       "    }\n",
       "\n",
       "    .dataframe tbody tr th {\n",
       "        vertical-align: top;\n",
       "    }\n",
       "\n",
       "    .dataframe thead th {\n",
       "        text-align: right;\n",
       "    }\n",
       "</style>\n",
       "<table border=\"1\" class=\"dataframe\">\n",
       "  <thead>\n",
       "    <tr style=\"text-align: right;\">\n",
       "      <th></th>\n",
       "      <th>gene</th>\n",
       "      <th>Position</th>\n",
       "      <th>Variation Type</th>\n",
       "      <th>Gene Region</th>\n",
       "      <th>dbSNP ID</th>\n",
       "      <th>1000 Genomes Frequency</th>\n",
       "    </tr>\n",
       "  </thead>\n",
       "  <tbody>\n",
       "    <tr>\n",
       "      <th>0</th>\n",
       "      <td>DDX11L1</td>\n",
       "      <td>10108</td>\n",
       "      <td>Insertion</td>\n",
       "      <td>Promoter</td>\n",
       "      <td>1322538365</td>\n",
       "      <td>NaN</td>\n",
       "    </tr>\n",
       "    <tr>\n",
       "      <th>1</th>\n",
       "      <td>DDX11L1</td>\n",
       "      <td>10321</td>\n",
       "      <td>SNV</td>\n",
       "      <td>Promoter</td>\n",
       "      <td>1002315756</td>\n",
       "      <td>NaN</td>\n",
       "    </tr>\n",
       "    <tr>\n",
       "      <th>2</th>\n",
       "      <td>WASH7P</td>\n",
       "      <td>18164</td>\n",
       "      <td>SNV</td>\n",
       "      <td>Intronic; Promoter</td>\n",
       "      <td>62636370</td>\n",
       "      <td>NaN</td>\n",
       "    </tr>\n",
       "    <tr>\n",
       "      <th>3</th>\n",
       "      <td>WASH7P</td>\n",
       "      <td>20729</td>\n",
       "      <td>SNV</td>\n",
       "      <td>Intronic</td>\n",
       "      <td>6661499</td>\n",
       "      <td>NaN</td>\n",
       "    </tr>\n",
       "    <tr>\n",
       "      <th>4</th>\n",
       "      <td>WASH7P</td>\n",
       "      <td>28682</td>\n",
       "      <td>SNV</td>\n",
       "      <td>Promoter; Intronic</td>\n",
       "      <td>1490102872</td>\n",
       "      <td>NaN</td>\n",
       "    </tr>\n",
       "  </tbody>\n",
       "</table>\n",
       "</div>"
      ],
      "text/plain": [
       "      gene  Position Variation Type         Gene Region    dbSNP ID  \\\n",
       "0  DDX11L1     10108      Insertion            Promoter  1322538365   \n",
       "1  DDX11L1     10321            SNV            Promoter  1002315756   \n",
       "2   WASH7P     18164            SNV  Intronic; Promoter    62636370   \n",
       "3   WASH7P     20729            SNV            Intronic     6661499   \n",
       "4   WASH7P     28682            SNV  Promoter; Intronic  1490102872   \n",
       "\n",
       "   1000 Genomes Frequency  \n",
       "0                     NaN  \n",
       "1                     NaN  \n",
       "2                     NaN  \n",
       "3                     NaN  \n",
       "4                     NaN  "
      ]
     },
     "execution_count": 4,
     "metadata": {},
     "output_type": "execute_result"
    }
   ],
   "source": [
    "v_df.head()"
   ]
  },
  {
   "cell_type": "code",
   "execution_count": 5,
   "metadata": {},
   "outputs": [],
   "source": [
    "df = v_df.fillna({ \n",
    "    \"1000 Genomes Frequency\": 0\n",
    "})"
   ]
  },
  {
   "cell_type": "code",
   "execution_count": 6,
   "metadata": {},
   "outputs": [
    {
     "data": {
      "text/html": [
       "<div>\n",
       "<style scoped>\n",
       "    .dataframe tbody tr th:only-of-type {\n",
       "        vertical-align: middle;\n",
       "    }\n",
       "\n",
       "    .dataframe tbody tr th {\n",
       "        vertical-align: top;\n",
       "    }\n",
       "\n",
       "    .dataframe thead th {\n",
       "        text-align: right;\n",
       "    }\n",
       "</style>\n",
       "<table border=\"1\" class=\"dataframe\">\n",
       "  <thead>\n",
       "    <tr style=\"text-align: right;\">\n",
       "      <th></th>\n",
       "      <th>gene</th>\n",
       "      <th>Position</th>\n",
       "      <th>Variation Type</th>\n",
       "      <th>Gene Region</th>\n",
       "      <th>dbSNP ID</th>\n",
       "      <th>1000 Genomes Frequency</th>\n",
       "    </tr>\n",
       "  </thead>\n",
       "  <tbody>\n",
       "    <tr>\n",
       "      <th>0</th>\n",
       "      <td>DDX11L1</td>\n",
       "      <td>10108</td>\n",
       "      <td>Insertion</td>\n",
       "      <td>Promoter</td>\n",
       "      <td>1322538365</td>\n",
       "      <td>0.0</td>\n",
       "    </tr>\n",
       "    <tr>\n",
       "      <th>1</th>\n",
       "      <td>DDX11L1</td>\n",
       "      <td>10321</td>\n",
       "      <td>SNV</td>\n",
       "      <td>Promoter</td>\n",
       "      <td>1002315756</td>\n",
       "      <td>0.0</td>\n",
       "    </tr>\n",
       "    <tr>\n",
       "      <th>2</th>\n",
       "      <td>WASH7P</td>\n",
       "      <td>18164</td>\n",
       "      <td>SNV</td>\n",
       "      <td>Intronic; Promoter</td>\n",
       "      <td>62636370</td>\n",
       "      <td>0.0</td>\n",
       "    </tr>\n",
       "    <tr>\n",
       "      <th>3</th>\n",
       "      <td>WASH7P</td>\n",
       "      <td>20729</td>\n",
       "      <td>SNV</td>\n",
       "      <td>Intronic</td>\n",
       "      <td>6661499</td>\n",
       "      <td>0.0</td>\n",
       "    </tr>\n",
       "    <tr>\n",
       "      <th>4</th>\n",
       "      <td>WASH7P</td>\n",
       "      <td>28682</td>\n",
       "      <td>SNV</td>\n",
       "      <td>Promoter; Intronic</td>\n",
       "      <td>1490102872</td>\n",
       "      <td>0.0</td>\n",
       "    </tr>\n",
       "  </tbody>\n",
       "</table>\n",
       "</div>"
      ],
      "text/plain": [
       "      gene  Position Variation Type         Gene Region    dbSNP ID  \\\n",
       "0  DDX11L1     10108      Insertion            Promoter  1322538365   \n",
       "1  DDX11L1     10321            SNV            Promoter  1002315756   \n",
       "2   WASH7P     18164            SNV  Intronic; Promoter    62636370   \n",
       "3   WASH7P     20729            SNV            Intronic     6661499   \n",
       "4   WASH7P     28682            SNV  Promoter; Intronic  1490102872   \n",
       "\n",
       "   1000 Genomes Frequency  \n",
       "0                     0.0  \n",
       "1                     0.0  \n",
       "2                     0.0  \n",
       "3                     0.0  \n",
       "4                     0.0  "
      ]
     },
     "execution_count": 6,
     "metadata": {},
     "output_type": "execute_result"
    }
   ],
   "source": [
    "df.head()"
   ]
  },
  {
   "cell_type": "code",
   "execution_count": 7,
   "metadata": {},
   "outputs": [
    {
     "data": {
      "text/html": [
       "<div>\n",
       "<style scoped>\n",
       "    .dataframe tbody tr th:only-of-type {\n",
       "        vertical-align: middle;\n",
       "    }\n",
       "\n",
       "    .dataframe tbody tr th {\n",
       "        vertical-align: top;\n",
       "    }\n",
       "\n",
       "    .dataframe thead th {\n",
       "        text-align: right;\n",
       "    }\n",
       "</style>\n",
       "<table border=\"1\" class=\"dataframe\">\n",
       "  <thead>\n",
       "    <tr style=\"text-align: right;\">\n",
       "      <th></th>\n",
       "      <th>Position</th>\n",
       "      <th>1000 Genomes Frequency</th>\n",
       "    </tr>\n",
       "  </thead>\n",
       "  <tbody>\n",
       "    <tr>\n",
       "      <th>count</th>\n",
       "      <td>1.204300e+05</td>\n",
       "      <td>120430.000000</td>\n",
       "    </tr>\n",
       "    <tr>\n",
       "      <th>mean</th>\n",
       "      <td>6.864722e+07</td>\n",
       "      <td>0.031209</td>\n",
       "    </tr>\n",
       "    <tr>\n",
       "      <th>std</th>\n",
       "      <td>5.473425e+07</td>\n",
       "      <td>0.115265</td>\n",
       "    </tr>\n",
       "    <tr>\n",
       "      <th>min</th>\n",
       "      <td>4.769000e+03</td>\n",
       "      <td>0.000000</td>\n",
       "    </tr>\n",
       "    <tr>\n",
       "      <th>25%</th>\n",
       "      <td>2.494789e+07</td>\n",
       "      <td>0.000000</td>\n",
       "    </tr>\n",
       "    <tr>\n",
       "      <th>50%</th>\n",
       "      <td>5.743807e+07</td>\n",
       "      <td>0.000000</td>\n",
       "    </tr>\n",
       "    <tr>\n",
       "      <th>75%</th>\n",
       "      <td>1.003038e+08</td>\n",
       "      <td>0.000000</td>\n",
       "    </tr>\n",
       "    <tr>\n",
       "      <th>max</th>\n",
       "      <td>2.490699e+08</td>\n",
       "      <td>0.998000</td>\n",
       "    </tr>\n",
       "  </tbody>\n",
       "</table>\n",
       "</div>"
      ],
      "text/plain": [
       "           Position  1000 Genomes Frequency\n",
       "count  1.204300e+05           120430.000000\n",
       "mean   6.864722e+07                0.031209\n",
       "std    5.473425e+07                0.115265\n",
       "min    4.769000e+03                0.000000\n",
       "25%    2.494789e+07                0.000000\n",
       "50%    5.743807e+07                0.000000\n",
       "75%    1.003038e+08                0.000000\n",
       "max    2.490699e+08                0.998000"
      ]
     },
     "execution_count": 7,
     "metadata": {},
     "output_type": "execute_result"
    }
   ],
   "source": [
    "df.describe()"
   ]
  },
  {
   "cell_type": "markdown",
   "metadata": {},
   "source": [
    "### Push to Neo4J"
   ]
  },
  {
   "cell_type": "code",
   "execution_count": null,
   "metadata": {},
   "outputs": [],
   "source": [
    "from py2neo import Graph\n",
    "import pandas as pd\n",
    "\n",
    "v_df = pd.read_csv(\"variants_file_svai.csv\")\n",
    "df = v_df.fillna({\n",
    "    \"1000 Genomes Frequency\": 0,\n",
    "    \"position\": 0\n",
    "})\n",
    "\n",
    "graph = Graph(password=\"1234\")\n",
    "\n",
    "for i, r in df.iterrows():\n",
    "    create_query = \"\"\"\n",
    "                MERGE (g:Gene {name: \"%(gene_name)s\"})\n",
    "                MERGE (p:Variant {name: \"%(variant)s\", gene_region: \"%(gene_region)s\", freq_1000: %(freq_1000)s})\n",
    "                MERGE (g)-[r:has {variant_type: \"%(variant_type)s\", position: %(position)s}]->(p)\n",
    "                RETURN g, r, p\n",
    "            \"\"\" % {\n",
    "        \"gene_name\": r[\"gene\"],\n",
    "        \"variant\": r[\"dbSNP ID\"],\n",
    "        \"gene_region\": r[\"Gene Region\"],\n",
    "        \"freq_1000\": r[\"1000 Genomes Frequency\"],\n",
    "        \"variant_type\": r[\"Variation Type\"],\n",
    "        \"position\": r[\"Position\"]\n",
    "    }\n",
    "    graph.run(create_query)\n",
    "\n",
    "    if i % 10000 == 0:\n",
    "        print(\"Saved {} variants\".format(i))\n"
   ]
  }
 ],
 "metadata": {
  "kernelspec": {
   "display_name": "Python 3.6",
   "language": "python",
   "name": "python36"
  },
  "language_info": {
   "codemirror_mode": {
    "name": "ipython",
    "version": 3
   },
   "file_extension": ".py",
   "mimetype": "text/x-python",
   "name": "python",
   "nbconvert_exporter": "python",
   "pygments_lexer": "ipython3",
   "version": "3.6.4"
  },
  "toc": {
   "base_numbering": 1,
   "nav_menu": {},
   "number_sections": false,
   "sideBar": true,
   "skip_h1_title": true,
   "title_cell": "Table of Contents",
   "title_sidebar": "Contents",
   "toc_cell": false,
   "toc_position": {},
   "toc_section_display": true,
   "toc_window_display": true
  }
 },
 "nbformat": 4,
 "nbformat_minor": 2
}
