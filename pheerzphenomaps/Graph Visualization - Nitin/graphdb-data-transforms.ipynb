{
 "cells": [
  {
   "cell_type": "markdown",
   "metadata": {},
   "source": [
    "# John's Gene Analysis"
   ]
  },
  {
   "cell_type": "markdown",
   "metadata": {},
   "source": [
    "In this notebook, we load the manually (or using a software like Qiagen) curated list of genes of John, and visualize their relationships with Phenotypes, Metabolic Pathways and Variants as an interactive graph for John or his doctor or a researcher of his case. This visualization brings all information to a single place keeping their relationships intact backed by a powerful query engine.\n",
    "\n",
    "This is developed as part of [SVAI Undiagnosed-1 Hackathon](https://sv.ai/undiagnosed-1-event) by [Team Pheerz Phenomaps](https://docs.google.com/presentation/d/1ZXT5jUo6xXdOTiBgAHEMkdiA7NQvlT2sAEywak2mAVI/edit#slide=id.gc6f80d1ff_0_50) in June 2019"
   ]
  },
  {
   "cell_type": "markdown",
   "metadata": {},
   "source": [
    "## Introduction"
   ]
  },
  {
   "cell_type": "markdown",
   "metadata": {},
   "source": [
    "The big idea is to connect John's curated gene data with Phenotypes, Variants and Metabolic Pathways datasets as a big graph / network. And then visualize this massive data in an interactive manner on an easy to use user interface. For this we make use an open source graph database, [Neo4j](https://neo4j.com/developer/graph-database/), and host on a volatile remote storage, so that it is accessible by multiple researchers at once and yet gives us the control to completely bring it down whenever necessary."
   ]
  },
  {
   "cell_type": "markdown",
   "metadata": {},
   "source": [
    "## Setup"
   ]
  },
  {
   "cell_type": "markdown",
   "metadata": {},
   "source": [
    "- Launch a remote Neo4j server at https://neo4j.com/sandbox-v2/. A \"Blank Sandbox\" server is perfect for our use case. This is a volatile version of data store hosted by Neo4j Inc. for free for a couple of days. After that, it is taken down and the data is completely deleted. This is perfect for a hackthon on when playing around with data. However the same code can connect to any remote or local database server\n",
    "\n",
    "- Install these Python dependencies"
   ]
  },
  {
   "cell_type": "code",
   "execution_count": null,
   "metadata": {},
   "outputs": [],
   "source": [
    "%%bash\n",
    "\n",
    "pip install -q pandas requests py2neo"
   ]
  },
  {
   "cell_type": "markdown",
   "metadata": {},
   "source": [
    "Wait for the Neo4j Sandbox to start. Then find these details in **Details** tab to make a secure connection to the remote database. For example, for the below sandbox\n",
    "\n",
    "<img src=\"https://drive.google.com/uc?export=view&id=119NjH2koCTGuq7_N6eUucYrU8T3CgY3u\" alt=\"example neo4j sandbox snapshot\" />\n",
    "\n",
    "the `BOLT_URL` is `bolt://34.203.33.130:36774`. Find yours and update in the next cell"
   ]
  },
  {
   "cell_type": "code",
   "execution_count": 86,
   "metadata": {
    "scrolled": true
   },
   "outputs": [
    {
     "name": "stdout",
     "output_type": "stream",
     "text": [
      "Connection was successful!\n"
     ]
    }
   ],
   "source": [
    "BOLT_URL = \"bolt://34.203.33.130:36774\"\n",
    "USER = \"neo4j\"\n",
    "PASSWORD = \"fur-rollout-tempers\" # better to read from an environment variable\n",
    "\n",
    "from py2neo import Graph\n",
    "graph = Graph( BOLT_URL, auth=(USER, PASSWORD) )\n",
    "graph.run(\"match (n) return count(n)\")\n",
    "print(\"Connection successful!\")"
   ]
  },
  {
   "cell_type": "markdown",
   "metadata": {},
   "source": [
    "In the **Get Started** tab above, click \"Launch Browser\" button to write interactive [graph queries](https://neo4j.com/docs/cypher-manual/3.5/introduction/). But before that we have to push John's data to that sandbox.\n",
    "\n",
    "Email nithanaroy@gmail.com for John's data that is in a form, expected by this notebook.\n",
    "\n",
    "Create a directory structure like below and save all of John's data in `./data/input` folder\n",
    "\n",
    "```\n",
    "./data\n",
    "├── input\n",
    "└── output\n",
    "```"
   ]
  },
  {
   "cell_type": "markdown",
   "metadata": {},
   "source": [
    "## Import Genes"
   ]
  },
  {
   "cell_type": "markdown",
   "metadata": {},
   "source": [
    "Import the curated list of genes from a CSV that has at least one column with list of Genes of interest\n",
    "\n",
    "<table>\n",
    "    <thead>\n",
    "        <tr><th>Gene Symbol</th></tr>\n",
    "    </thead>\n",
    "    <tbody>\n",
    "        <tr><td>Gene1</td>\n",
    "        <tr><td>Gene2; Gene3</td>\n",
    "        <tr><td>Gene4; Gene2</td>\n",
    "    </tbody>\n",
    "</table>\n",
    "\n",
    "As you can see some rows can have multiple of them separated by `;` And also the gene names can repeat"
   ]
  },
  {
   "cell_type": "code",
   "execution_count": 7,
   "metadata": {},
   "outputs": [],
   "source": [
    "import pandas as pd\n",
    "from itertools import chain"
   ]
  },
  {
   "cell_type": "code",
   "execution_count": 20,
   "metadata": {},
   "outputs": [],
   "source": [
    "gene_names_raw = pd.read_csv(\"./data/input/curated-genes.csv\")"
   ]
  },
  {
   "cell_type": "code",
   "execution_count": 21,
   "metadata": {},
   "outputs": [
    {
     "data": {
      "text/html": [
       "<div>\n",
       "<style scoped>\n",
       "    .dataframe tbody tr th:only-of-type {\n",
       "        vertical-align: middle;\n",
       "    }\n",
       "\n",
       "    .dataframe tbody tr th {\n",
       "        vertical-align: top;\n",
       "    }\n",
       "\n",
       "    .dataframe thead th {\n",
       "        text-align: right;\n",
       "    }\n",
       "</style>\n",
       "<table border=\"1\" class=\"dataframe\">\n",
       "  <thead>\n",
       "    <tr style=\"text-align: right;\">\n",
       "      <th></th>\n",
       "      <th>Gene Symbol</th>\n",
       "    </tr>\n",
       "  </thead>\n",
       "  <tbody>\n",
       "    <tr>\n",
       "      <th>0</th>\n",
       "      <td>EMG1; PHB2</td>\n",
       "    </tr>\n",
       "    <tr>\n",
       "      <th>1</th>\n",
       "      <td>GLB1; TMPPE</td>\n",
       "    </tr>\n",
       "    <tr>\n",
       "      <th>2</th>\n",
       "      <td>CEP57L1; SESN1</td>\n",
       "    </tr>\n",
       "    <tr>\n",
       "      <th>3</th>\n",
       "      <td>UBB</td>\n",
       "    </tr>\n",
       "    <tr>\n",
       "      <th>4</th>\n",
       "      <td>DNAJB1; TECR</td>\n",
       "    </tr>\n",
       "  </tbody>\n",
       "</table>\n",
       "</div>"
      ],
      "text/plain": [
       "      Gene Symbol\n",
       "0      EMG1; PHB2\n",
       "1     GLB1; TMPPE\n",
       "2  CEP57L1; SESN1\n",
       "3             UBB\n",
       "4    DNAJB1; TECR"
      ]
     },
     "execution_count": 21,
     "metadata": {},
     "output_type": "execute_result"
    }
   ],
   "source": [
    "gene_names_raw.head()"
   ]
  },
  {
   "cell_type": "code",
   "execution_count": 22,
   "metadata": {},
   "outputs": [],
   "source": [
    "genes_df = gene_names_raw.apply( lambda g: g[\"Gene Symbol\"].split(\";\"), axis=1 )"
   ]
  },
  {
   "cell_type": "code",
   "execution_count": 23,
   "metadata": {},
   "outputs": [],
   "source": [
    "genes_raw = list(chain.from_iterable( genes_df.tolist() ))"
   ]
  },
  {
   "cell_type": "code",
   "execution_count": 31,
   "metadata": {},
   "outputs": [],
   "source": [
    "genes = set( map( lambda g: g.strip(), genes_raw ) )"
   ]
  },
  {
   "cell_type": "code",
   "execution_count": 32,
   "metadata": {},
   "outputs": [
    {
     "data": {
      "text/plain": [
       "285"
      ]
     },
     "execution_count": 32,
     "metadata": {},
     "output_type": "execute_result"
    }
   ],
   "source": [
    "len( list(genes) )"
   ]
  },
  {
   "cell_type": "markdown",
   "metadata": {},
   "source": [
    "Save results to disk"
   ]
  },
  {
   "cell_type": "code",
   "execution_count": 33,
   "metadata": {},
   "outputs": [],
   "source": [
    "pd.DataFrame(genes, columns=[\"gene\"]).to_csv(\"./data/output/genes_list.csv\", index=False)"
   ]
  },
  {
   "cell_type": "markdown",
   "metadata": {},
   "source": [
    "## Fetch Phenotypes"
   ]
  },
  {
   "cell_type": "markdown",
   "metadata": {},
   "source": [
    "From http://uswest.ensembl.org we fetch the latest Phenotype information for each gene\n",
    "\n",
    "1. REST API documentation for fetching phenotypes http://rest.ensembl.org/documentation/info/phenotype_gene\n",
    "2. http://uswest.ensembl.org/Homo_sapiens/Gene/Phenotype?db=core;g=ENSG00000139618;r=13:32315474-32400266 details of a sample Gene"
   ]
  },
  {
   "cell_type": "code",
   "execution_count": 34,
   "metadata": {},
   "outputs": [],
   "source": [
    "import requests\n",
    "from time import sleep\n",
    "from json import dump\n",
    "import pandas as pd"
   ]
  },
  {
   "cell_type": "code",
   "execution_count": 37,
   "metadata": {},
   "outputs": [],
   "source": [
    "genes = pd.read_csv(\"./data/output/genes_list.csv\")[\"gene\"].to_list()"
   ]
  },
  {
   "cell_type": "code",
   "execution_count": 39,
   "metadata": {},
   "outputs": [
    {
     "data": {
      "text/plain": [
       "285"
      ]
     },
     "execution_count": 39,
     "metadata": {},
     "output_type": "execute_result"
    }
   ],
   "source": [
    "len(genes)"
   ]
  },
  {
   "cell_type": "code",
   "execution_count": 40,
   "metadata": {},
   "outputs": [],
   "source": [
    "url = \"http://rest.ensembl.org/phenotype/gene/homo_sapiens/{gene}\""
   ]
  },
  {
   "cell_type": "code",
   "execution_count": 41,
   "metadata": {},
   "outputs": [],
   "source": [
    "phenotypes_per_gene = {}"
   ]
  },
  {
   "cell_type": "code",
   "execution_count": 66,
   "metadata": {},
   "outputs": [
    {
     "name": "stdout",
     "output_type": "stream",
     "text": [
      "Fetched 100 genes' info\n",
      "Fetched 200 genes' info\n",
      "CPU times: user 1.21 s, sys: 190 ms, total: 1.4 s\n",
      "Wall time: 2min 15s\n"
     ]
    }
   ],
   "source": [
    "%%time\n",
    "\n",
    "unknown_genes = []\n",
    "failed_requests = []\n",
    "for i, g in enumerate(genes):\n",
    "    r = requests.get( url.format(gene=g), headers={'Content-type': 'application/json'} )\n",
    "    try:\n",
    "        resp = r.json()\n",
    "        if type(resp) == dict and \"error\" in resp:\n",
    "            unknown_genes.append(g)\n",
    "            continue\n",
    "\n",
    "        phenotypes_raw = map( lambda phenotype: phenotype.get(\"description\", \"\"), r.json() )\n",
    "        phenotypes = filter( lambda phenotype: len(phenotype) > 1, phenotypes_raw )\n",
    "        phenotypes_per_gene[g] = list( phenotypes )\n",
    "    except ValueError:\n",
    "        failed_requests.append(g)\n",
    "    \n",
    "    sleep(0.05) # be kind to the API :P\n",
    "    if i % 100 == 0:\n",
    "        print( \"Fetched {} genes' info\".format(i) )"
   ]
  },
  {
   "cell_type": "code",
   "execution_count": 67,
   "metadata": {},
   "outputs": [
    {
     "name": "stdout",
     "output_type": "stream",
     "text": [
      "Phenotypes for 44 genes are not found\n",
      "Due to network issues 0 genes information couldn't be fetched\n"
     ]
    }
   ],
   "source": [
    "print( \"Phenotypes for %s genes are not found\" % len(unknown_genes) )\n",
    "print( \"Due to network issues %s genes information couldn't be fetched\" % len(failed_requests) )"
   ]
  },
  {
   "cell_type": "markdown",
   "metadata": {},
   "source": [
    "Number of genes for which at least 1 phenotype is found"
   ]
  },
  {
   "cell_type": "code",
   "execution_count": 56,
   "metadata": {},
   "outputs": [
    {
     "data": {
      "text/plain": [
       "92"
      ]
     },
     "execution_count": 56,
     "metadata": {},
     "output_type": "execute_result"
    }
   ],
   "source": [
    "len( list(filter(lambda v: len(list(v)) > 0, phenotypes_per_gene.values() )) )"
   ]
  },
  {
   "cell_type": "markdown",
   "metadata": {},
   "source": [
    "Save results to disk"
   ]
  },
  {
   "cell_type": "code",
   "execution_count": 69,
   "metadata": {},
   "outputs": [],
   "source": [
    "with open(\"./data/output/gene_phenotypes_map.json\", \"w\") as fp:\n",
    "    dump(phenotypes_per_gene, fp)"
   ]
  },
  {
   "cell_type": "markdown",
   "metadata": {},
   "source": [
    "### Push Gene-Phenotypes to Neo4J"
   ]
  },
  {
   "cell_type": "code",
   "execution_count": 70,
   "metadata": {},
   "outputs": [],
   "source": [
    "from json import load"
   ]
  },
  {
   "cell_type": "code",
   "execution_count": 71,
   "metadata": {},
   "outputs": [],
   "source": [
    "# load phenotype & genes map\n",
    "with open(\"./data/output/gene_phenotypes_map.json\", \"r\") as fp:\n",
    "    phenotypes_per_gene = load(fp)"
   ]
  },
  {
   "cell_type": "code",
   "execution_count": 89,
   "metadata": {
    "scrolled": true
   },
   "outputs": [
    {
     "name": "stdout",
     "output_type": "stream",
     "text": [
      "Saved 1 genes to Graph DB\n",
      "Saved 11 genes to Graph DB\n",
      "Saved 21 genes to Graph DB\n",
      "Saved 31 genes to Graph DB\n",
      "Saved 41 genes to Graph DB\n",
      "Saved 51 genes to Graph DB\n",
      "Saved 61 genes to Graph DB\n",
      "Saved 71 genes to Graph DB\n",
      "Saved 81 genes to Graph DB\n",
      "Saved 91 genes to Graph DB\n",
      "Saved 101 genes to Graph DB\n",
      "Saved 111 genes to Graph DB\n",
      "Saved 121 genes to Graph DB\n",
      "Saved 131 genes to Graph DB\n",
      "Saved 141 genes to Graph DB\n",
      "Saved 151 genes to Graph DB\n",
      "Saved 161 genes to Graph DB\n",
      "Saved 171 genes to Graph DB\n",
      "Saved 181 genes to Graph DB\n",
      "Saved 191 genes to Graph DB\n",
      "Saved 201 genes to Graph DB\n",
      "Saved 211 genes to Graph DB\n",
      "Saved 221 genes to Graph DB\n",
      "Saved 231 genes to Graph DB\n",
      "Saved 241 genes to Graph DB\n",
      "CPU times: user 2.41 s, sys: 387 ms, total: 2.8 s\n",
      "Wall time: 3min 35s\n"
     ]
    }
   ],
   "source": [
    "%%time\n",
    "\n",
    "for i, gene in enumerate(phenotypes_per_gene):\n",
    "    phenotypes = phenotypes_per_gene[gene]\n",
    "    for phenotype in phenotypes:\n",
    "        create_query = \"\"\"\n",
    "            MERGE (g:Gene {name: \"%(gene_name)s\"})\n",
    "            MERGE (p:Phenotype {name: \"%(phenotype_name)s\"})\n",
    "            MERGE (g)-[r:causes]->(p)\n",
    "            RETURN g, r, p\n",
    "        \"\"\" % {\"gene_name\": gene, \"phenotype_name\": phenotype}\n",
    "        graph.run(create_query)\n",
    "        \n",
    "    if i % 10 == 0:\n",
    "        print( \"Saved {} genes to Graph DB\".format(i+1) )\n",
    "        \n",
    "# create index on name for faster insert queries later\n",
    "graph.run( \"CREATE INDEX ON :Gene(name)\" ) "
   ]
  },
  {
   "cell_type": "code",
   "execution_count": 90,
   "metadata": {},
   "outputs": [
    {
     "data": {
      "text/plain": [
       "241"
      ]
     },
     "execution_count": 90,
     "metadata": {},
     "output_type": "execute_result"
    }
   ],
   "source": [
    "len(phenotypes_per_gene.keys())"
   ]
  },
  {
   "cell_type": "markdown",
   "metadata": {},
   "source": [
    "### Analyze"
   ]
  },
  {
   "cell_type": "code",
   "execution_count": 104,
   "metadata": {},
   "outputs": [
    {
     "data": {
      "text/html": [
       "<table><tr><th>TotalGenes</th></tr><tr><td style=\"text-align:right\">1090</td></tr></table>"
      ],
      "text/plain": [
       " TotalGenes \n",
       "------------\n",
       "       1090 "
      ]
     },
     "execution_count": 104,
     "metadata": {},
     "output_type": "execute_result"
    }
   ],
   "source": [
    "graph.run(\"\"\"\n",
    "    MATCH (n:Gene)\n",
    "    RETURN COUNT(n) AS TotalGenes\n",
    "\"\"\").to_table()"
   ]
  },
  {
   "cell_type": "code",
   "execution_count": 105,
   "metadata": {},
   "outputs": [
    {
     "data": {
      "text/html": [
       "<table><tr><th>TotalPhenotypes</th></tr><tr><td style=\"text-align:right\">668</td></tr></table>"
      ],
      "text/plain": [
       " TotalPhenotypes \n",
       "-----------------\n",
       "             668 "
      ]
     },
     "execution_count": 105,
     "metadata": {},
     "output_type": "execute_result"
    }
   ],
   "source": [
    "graph.run(\"\"\"\n",
    "    MATCH (n:Phenotype)\n",
    "    RETURN COUNT(n) AS TotalPhenotypes\n",
    "\"\"\").to_table()"
   ]
  },
  {
   "cell_type": "markdown",
   "metadata": {},
   "source": [
    "List the topk genes based on number of phenotypes they are connected to"
   ]
  },
  {
   "cell_type": "code",
   "execution_count": 107,
   "metadata": {},
   "outputs": [
    {
     "data": {
      "text/html": [
       "<table><tr><th>Gene</th><th>NumPhenotypesConnectedTo</th></tr><tr><td style=\"text-align:left\">BRAF</td><td style=\"text-align:right\">206</td></tr><tr><td style=\"text-align:left\">CTNNB1</td><td style=\"text-align:right\">161</td></tr><tr><td style=\"text-align:left\">NF1</td><td style=\"text-align:right\">149</td></tr><tr><td style=\"text-align:left\">RB1</td><td style=\"text-align:right\">121</td></tr><tr><td style=\"text-align:left\">CDH1</td><td style=\"text-align:right\">102</td></tr><tr><td style=\"text-align:left\">GRIN2A</td><td style=\"text-align:right\">92</td></tr><tr><td style=\"text-align:left\">FZR1</td><td style=\"text-align:right\">92</td></tr><tr><td style=\"text-align:left\">TSC1</td><td style=\"text-align:right\">85</td></tr><tr><td style=\"text-align:left\">PDGFRB</td><td style=\"text-align:right\">84</td></tr><tr><td style=\"text-align:left\">MEN1</td><td style=\"text-align:right\">80</td></tr></table>"
      ],
      "text/plain": [
       " Gene   | NumPhenotypesConnectedTo \n",
       "--------|--------------------------\n",
       " BRAF   |                      206 \n",
       " CTNNB1 |                      161 \n",
       " NF1    |                      149 \n",
       " RB1    |                      121 \n",
       " CDH1   |                      102 \n",
       " GRIN2A |                       92 \n",
       " FZR1   |                       92 \n",
       " TSC1   |                       85 \n",
       " PDGFRB |                       84 \n",
       " MEN1   |                       80 "
      ]
     },
     "execution_count": 107,
     "metadata": {},
     "output_type": "execute_result"
    }
   ],
   "source": [
    "graph.run(\"\"\"\n",
    "    MATCH (k)\n",
    "    WITH k, size((k)-[:causes]->(:Phenotype)) as out_degree\n",
    "    order by out_degree desc\n",
    "    RETURN k.name as Gene, out_degree as NumPhenotypesConnectedTo\n",
    "    limit 10;\n",
    "\"\"\").to_table()"
   ]
  },
  {
   "cell_type": "markdown",
   "metadata": {},
   "source": [
    "List the topk phenotypes based on number genes it is connected to"
   ]
  },
  {
   "cell_type": "code",
   "execution_count": 111,
   "metadata": {},
   "outputs": [
    {
     "data": {
      "text/html": [
       "<table><tr><th>Phenotype</th><th>NumGenesConnectedTo</th></tr><tr><td style=\"text-align:left\">colorectal adenocarcinoma</td><td style=\"text-align:right\">31</td></tr><tr><td style=\"text-align:left\">Cutaneous melanoma</td><td style=\"text-align:right\">31</td></tr><tr><td style=\"text-align:left\">Lung adenocarcinoma</td><td style=\"text-align:right\">31</td></tr><tr><td style=\"text-align:left\">colon adenocarcinoma</td><td style=\"text-align:right\">31</td></tr><tr><td style=\"text-align:left\">bladder carcinoma</td><td style=\"text-align:right\">31</td></tr><tr><td style=\"text-align:left\">Breast carcinoma</td><td style=\"text-align:right\">30</td></tr><tr><td style=\"text-align:left\">gastric adenocarcinoma</td><td style=\"text-align:right\">30</td></tr><tr><td style=\"text-align:left\">Endometrial Endometrioid Adenocarcinoma</td><td style=\"text-align:right\">30</td></tr><tr><td style=\"text-align:left\">breast ductal adenocarcinoma</td><td style=\"text-align:right\">30</td></tr><tr><td style=\"text-align:left\">Melanoma</td><td style=\"text-align:right\">30</td></tr></table>"
      ],
      "text/plain": [
       " Phenotype                               | NumGenesConnectedTo \n",
       "-----------------------------------------|---------------------\n",
       " colorectal adenocarcinoma               |                  31 \n",
       " Cutaneous melanoma                      |                  31 \n",
       " Lung adenocarcinoma                     |                  31 \n",
       " colon adenocarcinoma                    |                  31 \n",
       " bladder carcinoma                       |                  31 \n",
       " Breast carcinoma                        |                  30 \n",
       " gastric adenocarcinoma                  |                  30 \n",
       " Endometrial Endometrioid Adenocarcinoma |                  30 \n",
       " breast ductal adenocarcinoma            |                  30 \n",
       " Melanoma                                |                  30 "
      ]
     },
     "execution_count": 111,
     "metadata": {},
     "output_type": "execute_result"
    }
   ],
   "source": [
    "graph.run(\"\"\"\n",
    "    match (p:Phenotype)\n",
    "    with p, size((p)<--(:Gene)) as in_degree\n",
    "    order by in_degree desc\n",
    "    return p.name as Phenotype, in_degree as NumGenesConnectedTo\n",
    "    limit 10\n",
    "\"\"\").to_table()"
   ]
  },
  {
   "cell_type": "markdown",
   "metadata": {},
   "source": [
    "Use [Betweeness Centrality](https://neo4j.com/docs/graph-algorithms/current/algorithms/betweenness-centrality/) graph algorithm to identify topk influential Genes and Phenotypes"
   ]
  },
  {
   "cell_type": "code",
   "execution_count": 121,
   "metadata": {},
   "outputs": [
    {
     "data": {
      "text/html": [
       "<table><tr><th>Gene__Phenotype</th><th>centrality</th></tr><tr><td style=\"text-align:left\">BRAF</td><td style=\"text-align:right\">42405.85662876137</td></tr><tr><td style=\"text-align:left\">CTNNB1</td><td style=\"text-align:right\">28036.894693803246</td></tr><tr><td style=\"text-align:left\">NF1</td><td style=\"text-align:right\">18657.244270964435</td></tr><tr><td style=\"text-align:left\">RB1</td><td style=\"text-align:right\">12678.737881176643</td></tr><tr><td style=\"text-align:left\">MEN1</td><td style=\"text-align:right\">11526.395395167716</td></tr><tr><td style=\"text-align:left\">PDGFRB</td><td style=\"text-align:right\">9074.374118004636</td></tr><tr><td style=\"text-align:left\">CDH1</td><td style=\"text-align:right\">8575.682409132756</td></tr><tr><td style=\"text-align:left\">GRIN2A</td><td style=\"text-align:right\">8337.905692797103</td></tr><tr><td style=\"text-align:left\">PPARG</td><td style=\"text-align:right\">8103.218185236304</td></tr><tr><td style=\"text-align:left\">TSC1</td><td style=\"text-align:right\">7293.134006113796</td></tr><tr><td style=\"text-align:left\">PRKAR1A</td><td style=\"text-align:right\">7119.768387555634</td></tr><tr><td style=\"text-align:left\">FASN</td><td style=\"text-align:right\">5291.265905538524</td></tr><tr><td style=\"text-align:left\">PPP2R1A</td><td style=\"text-align:right\">4435.529512404622</td></tr><tr><td style=\"text-align:left\">FZR1</td><td style=\"text-align:right\">4349.045339122083</td></tr><tr><td style=\"text-align:left\">DIABETES MELLITUS, NONINSULIN-DEPENDENT</td><td style=\"text-align:right\">4071.0</td></tr></table>"
      ],
      "text/plain": [
       " Gene__Phenotype                         |         centrality \n",
       "-----------------------------------------|--------------------\n",
       " BRAF                                    |  42405.85662876137 \n",
       " CTNNB1                                  | 28036.894693803246 \n",
       " NF1                                     | 18657.244270964435 \n",
       " RB1                                     | 12678.737881176643 \n",
       " MEN1                                    | 11526.395395167716 \n",
       " PDGFRB                                  |  9074.374118004636 \n",
       " CDH1                                    |  8575.682409132756 \n",
       " GRIN2A                                  |  8337.905692797103 \n",
       " PPARG                                   |  8103.218185236304 \n",
       " TSC1                                    |  7293.134006113796 \n",
       " PRKAR1A                                 |  7119.768387555634 \n",
       " FASN                                    |  5291.265905538524 \n",
       " PPP2R1A                                 |  4435.529512404622 \n",
       " FZR1                                    |  4349.045339122083 \n",
       " DIABETES MELLITUS, NONINSULIN-DEPENDENT |             4071.0 "
      ]
     },
     "execution_count": 121,
     "metadata": {},
     "output_type": "execute_result"
    }
   ],
   "source": [
    "graph.run(\"\"\"\n",
    "    CALL algo.betweenness.stream(null, \"causes\", {direction:'both'})\n",
    "    YIELD nodeId, centrality\n",
    "    MATCH (g) WHERE id(g) = nodeId\n",
    "    RETURN g.name AS Gene__Phenotype, centrality\n",
    "    ORDER BY centrality DESC\n",
    "    LIMIT 15\n",
    "\"\"\").to_table()"
   ]
  },
  {
   "cell_type": "markdown",
   "metadata": {},
   "source": [
    "## Metabolic Pathways"
   ]
  },
  {
   "cell_type": "markdown",
   "metadata": {},
   "source": [
    "Link Genes to Metabolic Pathways"
   ]
  },
  {
   "cell_type": "code",
   "execution_count": 91,
   "metadata": {},
   "outputs": [],
   "source": [
    "from json import dump"
   ]
  },
  {
   "cell_type": "code",
   "execution_count": 92,
   "metadata": {},
   "outputs": [],
   "source": [
    "pathways_per_gene = {}"
   ]
  },
  {
   "cell_type": "markdown",
   "metadata": {},
   "source": [
    "Expected format of the mapping `.txt` file is\n",
    "\n",
    "```\n",
    "PathID1\tGene1\tGene2\tGene3\tGene4\tGene5\n",
    "PathID2\tGene6\tGene3\n",
    "```\n",
    "\n",
    "- Each row has details about a path\n",
    "- First value in each row is the path id / name\n",
    "- Subsequent fields are all genes\n",
    "- Each field in a row in separated by tabs"
   ]
  },
  {
   "cell_type": "code",
   "execution_count": 94,
   "metadata": {},
   "outputs": [],
   "source": [
    "with open(\"./data/input/keggGeneMapping.txt\", \"r\") as fp:\n",
    "    for l in fp:\n",
    "        records = list( filter( lambda y: len(y) > 0, map( lambda x: x.strip(), l.strip().split(\"\\t\") ) ) )\n",
    "        gene = records[0]\n",
    "        pathways = records[1:]\n",
    "        pathways_per_gene[gene] = pathways"
   ]
  },
  {
   "cell_type": "markdown",
   "metadata": {},
   "source": [
    "Save the pathways as JSON to disk"
   ]
  },
  {
   "cell_type": "code",
   "execution_count": 95,
   "metadata": {},
   "outputs": [],
   "source": [
    "with open(\"./data/output/pathways_per_gene.json\", \"w\") as fp:\n",
    "    dump(pathways_per_gene, fp)"
   ]
  },
  {
   "cell_type": "markdown",
   "metadata": {},
   "source": [
    "### Push Pathways to Neo4J"
   ]
  },
  {
   "cell_type": "code",
   "execution_count": 96,
   "metadata": {},
   "outputs": [],
   "source": [
    "from json import load\n",
    "import os"
   ]
  },
  {
   "cell_type": "code",
   "execution_count": 98,
   "metadata": {},
   "outputs": [],
   "source": [
    "# load phenotype & genes map\n",
    "with open(\"./data/output/pathways_per_gene.json\", \"r\") as fp:\n",
    "    pathways_per_gene = load(fp)"
   ]
  },
  {
   "cell_type": "code",
   "execution_count": 99,
   "metadata": {},
   "outputs": [],
   "source": [
    "PATHWAY_IMAGES_FOLDER = \"./data/input/pathview_images_full/\""
   ]
  },
  {
   "cell_type": "code",
   "execution_count": 100,
   "metadata": {},
   "outputs": [
    {
     "name": "stdout",
     "output_type": "stream",
     "text": [
      "Saved 0 pathways to Graph DB\n",
      "Saved 100 pathways to Graph DB\n",
      "Saved 200 pathways to Graph DB\n",
      "CPU times: user 3.49 s, sys: 429 ms, total: 3.92 s\n",
      "Wall time: 5min 21s\n"
     ]
    }
   ],
   "source": [
    "%%time\n",
    "\n",
    "missing_pathway_files = []\n",
    "\n",
    "pathway_png_template = \"hsa%(pathway)s.pathview.png\"\n",
    "for i, pathway in enumerate(pathways_per_gene):\n",
    "    pathway_png = os.path.join( PATHWAY_IMAGES_FOLDER, pathway_png_template % {\"pathway\": pathway} )\n",
    "    if not os.path.exists(pathway_png):\n",
    "        pathway_png = \"Yet to generate a pathway for me\"\n",
    "        missing_pathway_files.append(pathway)\n",
    "    \n",
    "    genes = pathways_per_gene[pathway]\n",
    "    for gene in genes:\n",
    "        create_query = \"\"\"\n",
    "            MERGE (g:Gene {name: \"%(gene_name)s\"})\n",
    "            MERGE (p:Pathway {name: \"%(pathway)s\", pathway_png: \"%(pathway_png)s\"})\n",
    "            MERGE (g)-[r:is_in]->(p)\n",
    "            RETURN g, r, p\n",
    "        \"\"\" % {\"gene_name\": gene, \"pathway\": pathway, \"pathway_png\": pathway_png}\n",
    "        graph.run(create_query)\n",
    "        \n",
    "    if i % 100 == 0:\n",
    "        print( \"Saved {} pathways to Graph DB\".format(i) )"
   ]
  },
  {
   "cell_type": "code",
   "execution_count": 53,
   "metadata": {},
   "outputs": [
    {
     "data": {
      "text/plain": [
       "292"
      ]
     },
     "execution_count": 53,
     "metadata": {},
     "output_type": "execute_result"
    }
   ],
   "source": [
    "len(pathways_per_gene.keys())"
   ]
  },
  {
   "cell_type": "markdown",
   "metadata": {},
   "source": [
    "### Analyze"
   ]
  },
  {
   "cell_type": "code",
   "execution_count": 122,
   "metadata": {},
   "outputs": [
    {
     "data": {
      "text/html": [
       "<table><tr><th>TotalPathways</th></tr><tr><td style=\"text-align:right\">292</td></tr></table>"
      ],
      "text/plain": [
       " TotalPathways \n",
       "---------------\n",
       "           292 "
      ]
     },
     "execution_count": 122,
     "metadata": {},
     "output_type": "execute_result"
    }
   ],
   "source": [
    "graph.run(\"\"\"\n",
    "    MATCH (n:Pathway)\n",
    "    RETURN COUNT(n) AS TotalPathways\n",
    "\"\"\").to_table()"
   ]
  },
  {
   "cell_type": "markdown",
   "metadata": {},
   "source": [
    "## Variants & Genes"
   ]
  },
  {
   "cell_type": "code",
   "execution_count": 125,
   "metadata": {},
   "outputs": [],
   "source": [
    "import pandas as pd"
   ]
  },
  {
   "cell_type": "markdown",
   "metadata": {},
   "source": [
    "The variants CSV file is expected to have these columns,\n",
    "\n",
    "<table>\n",
    "    <thead>\n",
    "        <tr>\n",
    "            <th>gene</th>\n",
    "            <th>Position</th>\n",
    "            <th>Variation Type</th>\n",
    "            <th>Gene Region</th>\n",
    "            <th>dbSNP ID</th>\n",
    "            <th>1000 Genomes Frequency</th>\n",
    "        </tr>\n",
    "    </thead>\n",
    "    <tbody>\n",
    "        <tr>\n",
    "            <td>Gene1</td>\n",
    "            <td>1234</td>\n",
    "            <td>Insertion</td>\n",
    "            <td>Intronic</td>\n",
    "            <td>4321</td>\n",
    "            <td>&nbsp</td>\n",
    "        </tr>\n",
    "        <tr>\n",
    "            <td>..</td>\n",
    "            <td>...</td>\n",
    "            <td>...</td>\n",
    "            <td>...</td>\n",
    "            <td>...</td>\n",
    "            <td>...</td>\n",
    "        </tr>\n",
    "</table>"
   ]
  },
  {
   "cell_type": "code",
   "execution_count": 123,
   "metadata": {},
   "outputs": [],
   "source": [
    "v_df = pd.read_csv(\"./data/input/variants.csv\")"
   ]
  },
  {
   "cell_type": "code",
   "execution_count": 124,
   "metadata": {},
   "outputs": [
    {
     "data": {
      "text/plain": [
       "(120430, 6)"
      ]
     },
     "execution_count": 124,
     "metadata": {},
     "output_type": "execute_result"
    }
   ],
   "source": [
    "v_df.shape"
   ]
  },
  {
   "cell_type": "code",
   "execution_count": 130,
   "metadata": {},
   "outputs": [
    {
     "data": {
      "text/html": [
       "<div>\n",
       "<style scoped>\n",
       "    .dataframe tbody tr th:only-of-type {\n",
       "        vertical-align: middle;\n",
       "    }\n",
       "\n",
       "    .dataframe tbody tr th {\n",
       "        vertical-align: top;\n",
       "    }\n",
       "\n",
       "    .dataframe thead th {\n",
       "        text-align: right;\n",
       "    }\n",
       "</style>\n",
       "<table border=\"1\" class=\"dataframe\">\n",
       "  <thead>\n",
       "    <tr style=\"text-align: right;\">\n",
       "      <th></th>\n",
       "      <th>gene</th>\n",
       "      <th>Position</th>\n",
       "      <th>Variation Type</th>\n",
       "      <th>Gene Region</th>\n",
       "      <th>dbSNP ID</th>\n",
       "      <th>1000 Genomes Frequency</th>\n",
       "    </tr>\n",
       "  </thead>\n",
       "  <tbody>\n",
       "    <tr>\n",
       "      <th>0</th>\n",
       "      <td>DDX11L1</td>\n",
       "      <td>10108</td>\n",
       "      <td>Insertion</td>\n",
       "      <td>Promoter</td>\n",
       "      <td>1322538365</td>\n",
       "      <td>NaN</td>\n",
       "    </tr>\n",
       "    <tr>\n",
       "      <th>1</th>\n",
       "      <td>DDX11L1</td>\n",
       "      <td>10321</td>\n",
       "      <td>SNV</td>\n",
       "      <td>Promoter</td>\n",
       "      <td>1002315756</td>\n",
       "      <td>NaN</td>\n",
       "    </tr>\n",
       "    <tr>\n",
       "      <th>2</th>\n",
       "      <td>WASH7P</td>\n",
       "      <td>18164</td>\n",
       "      <td>SNV</td>\n",
       "      <td>Intronic; Promoter</td>\n",
       "      <td>62636370</td>\n",
       "      <td>NaN</td>\n",
       "    </tr>\n",
       "    <tr>\n",
       "      <th>3</th>\n",
       "      <td>WASH7P</td>\n",
       "      <td>20729</td>\n",
       "      <td>SNV</td>\n",
       "      <td>Intronic</td>\n",
       "      <td>6661499</td>\n",
       "      <td>NaN</td>\n",
       "    </tr>\n",
       "    <tr>\n",
       "      <th>4</th>\n",
       "      <td>WASH7P</td>\n",
       "      <td>28682</td>\n",
       "      <td>SNV</td>\n",
       "      <td>Promoter; Intronic</td>\n",
       "      <td>1490102872</td>\n",
       "      <td>NaN</td>\n",
       "    </tr>\n",
       "  </tbody>\n",
       "</table>\n",
       "</div>"
      ],
      "text/plain": [
       "      gene  Position Variation Type         Gene Region    dbSNP ID  \\\n",
       "0  DDX11L1     10108      Insertion            Promoter  1322538365   \n",
       "1  DDX11L1     10321            SNV            Promoter  1002315756   \n",
       "2   WASH7P     18164            SNV  Intronic; Promoter    62636370   \n",
       "3   WASH7P     20729            SNV            Intronic     6661499   \n",
       "4   WASH7P     28682            SNV  Promoter; Intronic  1490102872   \n",
       "\n",
       "   1000 Genomes Frequency  \n",
       "0                     NaN  \n",
       "1                     NaN  \n",
       "2                     NaN  \n",
       "3                     NaN  \n",
       "4                     NaN  "
      ]
     },
     "execution_count": 130,
     "metadata": {},
     "output_type": "execute_result"
    }
   ],
   "source": [
    "v_df.head()"
   ]
  },
  {
   "cell_type": "code",
   "execution_count": 131,
   "metadata": {},
   "outputs": [],
   "source": [
    "df = v_df.fillna({ \n",
    "    \"1000 Genomes Frequency\": 0\n",
    "})"
   ]
  },
  {
   "cell_type": "code",
   "execution_count": 132,
   "metadata": {},
   "outputs": [
    {
     "data": {
      "text/html": [
       "<div>\n",
       "<style scoped>\n",
       "    .dataframe tbody tr th:only-of-type {\n",
       "        vertical-align: middle;\n",
       "    }\n",
       "\n",
       "    .dataframe tbody tr th {\n",
       "        vertical-align: top;\n",
       "    }\n",
       "\n",
       "    .dataframe thead th {\n",
       "        text-align: right;\n",
       "    }\n",
       "</style>\n",
       "<table border=\"1\" class=\"dataframe\">\n",
       "  <thead>\n",
       "    <tr style=\"text-align: right;\">\n",
       "      <th></th>\n",
       "      <th>gene</th>\n",
       "      <th>Position</th>\n",
       "      <th>Variation Type</th>\n",
       "      <th>Gene Region</th>\n",
       "      <th>dbSNP ID</th>\n",
       "      <th>1000 Genomes Frequency</th>\n",
       "    </tr>\n",
       "  </thead>\n",
       "  <tbody>\n",
       "    <tr>\n",
       "      <th>0</th>\n",
       "      <td>DDX11L1</td>\n",
       "      <td>10108</td>\n",
       "      <td>Insertion</td>\n",
       "      <td>Promoter</td>\n",
       "      <td>1322538365</td>\n",
       "      <td>0.0</td>\n",
       "    </tr>\n",
       "    <tr>\n",
       "      <th>1</th>\n",
       "      <td>DDX11L1</td>\n",
       "      <td>10321</td>\n",
       "      <td>SNV</td>\n",
       "      <td>Promoter</td>\n",
       "      <td>1002315756</td>\n",
       "      <td>0.0</td>\n",
       "    </tr>\n",
       "    <tr>\n",
       "      <th>2</th>\n",
       "      <td>WASH7P</td>\n",
       "      <td>18164</td>\n",
       "      <td>SNV</td>\n",
       "      <td>Intronic; Promoter</td>\n",
       "      <td>62636370</td>\n",
       "      <td>0.0</td>\n",
       "    </tr>\n",
       "    <tr>\n",
       "      <th>3</th>\n",
       "      <td>WASH7P</td>\n",
       "      <td>20729</td>\n",
       "      <td>SNV</td>\n",
       "      <td>Intronic</td>\n",
       "      <td>6661499</td>\n",
       "      <td>0.0</td>\n",
       "    </tr>\n",
       "    <tr>\n",
       "      <th>4</th>\n",
       "      <td>WASH7P</td>\n",
       "      <td>28682</td>\n",
       "      <td>SNV</td>\n",
       "      <td>Promoter; Intronic</td>\n",
       "      <td>1490102872</td>\n",
       "      <td>0.0</td>\n",
       "    </tr>\n",
       "  </tbody>\n",
       "</table>\n",
       "</div>"
      ],
      "text/plain": [
       "      gene  Position Variation Type         Gene Region    dbSNP ID  \\\n",
       "0  DDX11L1     10108      Insertion            Promoter  1322538365   \n",
       "1  DDX11L1     10321            SNV            Promoter  1002315756   \n",
       "2   WASH7P     18164            SNV  Intronic; Promoter    62636370   \n",
       "3   WASH7P     20729            SNV            Intronic     6661499   \n",
       "4   WASH7P     28682            SNV  Promoter; Intronic  1490102872   \n",
       "\n",
       "   1000 Genomes Frequency  \n",
       "0                     0.0  \n",
       "1                     0.0  \n",
       "2                     0.0  \n",
       "3                     0.0  \n",
       "4                     0.0  "
      ]
     },
     "execution_count": 132,
     "metadata": {},
     "output_type": "execute_result"
    }
   ],
   "source": [
    "df.head()"
   ]
  },
  {
   "cell_type": "code",
   "execution_count": 129,
   "metadata": {},
   "outputs": [
    {
     "data": {
      "text/html": [
       "<div>\n",
       "<style scoped>\n",
       "    .dataframe tbody tr th:only-of-type {\n",
       "        vertical-align: middle;\n",
       "    }\n",
       "\n",
       "    .dataframe tbody tr th {\n",
       "        vertical-align: top;\n",
       "    }\n",
       "\n",
       "    .dataframe thead th {\n",
       "        text-align: right;\n",
       "    }\n",
       "</style>\n",
       "<table border=\"1\" class=\"dataframe\">\n",
       "  <thead>\n",
       "    <tr style=\"text-align: right;\">\n",
       "      <th></th>\n",
       "      <th>Position</th>\n",
       "      <th>1000 Genomes Frequency</th>\n",
       "    </tr>\n",
       "  </thead>\n",
       "  <tbody>\n",
       "    <tr>\n",
       "      <th>count</th>\n",
       "      <td>1.204300e+05</td>\n",
       "      <td>120430.000000</td>\n",
       "    </tr>\n",
       "    <tr>\n",
       "      <th>mean</th>\n",
       "      <td>6.864722e+07</td>\n",
       "      <td>0.031209</td>\n",
       "    </tr>\n",
       "    <tr>\n",
       "      <th>std</th>\n",
       "      <td>5.473425e+07</td>\n",
       "      <td>0.115265</td>\n",
       "    </tr>\n",
       "    <tr>\n",
       "      <th>min</th>\n",
       "      <td>4.769000e+03</td>\n",
       "      <td>0.000000</td>\n",
       "    </tr>\n",
       "    <tr>\n",
       "      <th>25%</th>\n",
       "      <td>2.494789e+07</td>\n",
       "      <td>0.000000</td>\n",
       "    </tr>\n",
       "    <tr>\n",
       "      <th>50%</th>\n",
       "      <td>5.743807e+07</td>\n",
       "      <td>0.000000</td>\n",
       "    </tr>\n",
       "    <tr>\n",
       "      <th>75%</th>\n",
       "      <td>1.003038e+08</td>\n",
       "      <td>0.000000</td>\n",
       "    </tr>\n",
       "    <tr>\n",
       "      <th>max</th>\n",
       "      <td>2.490699e+08</td>\n",
       "      <td>0.998000</td>\n",
       "    </tr>\n",
       "  </tbody>\n",
       "</table>\n",
       "</div>"
      ],
      "text/plain": [
       "           Position  1000 Genomes Frequency\n",
       "count  1.204300e+05           120430.000000\n",
       "mean   6.864722e+07                0.031209\n",
       "std    5.473425e+07                0.115265\n",
       "min    4.769000e+03                0.000000\n",
       "25%    2.494789e+07                0.000000\n",
       "50%    5.743807e+07                0.000000\n",
       "75%    1.003038e+08                0.000000\n",
       "max    2.490699e+08                0.998000"
      ]
     },
     "execution_count": 129,
     "metadata": {},
     "output_type": "execute_result"
    }
   ],
   "source": [
    "df.describe()"
   ]
  },
  {
   "cell_type": "markdown",
   "metadata": {},
   "source": [
    "### Push Variants to Neo4J"
   ]
  },
  {
   "cell_type": "markdown",
   "metadata": {},
   "source": [
    "As there 120K+ variants saving all of them to Neo4j, at least the way below, can take a while. So pick how many rows from the above dataframe you want to push. Email nithanaroy@gmail.com if this is really crucial for your analysis and should be optimized to run faster."
   ]
  },
  {
   "cell_type": "code",
   "execution_count": 136,
   "metadata": {},
   "outputs": [],
   "source": [
    "max_rows_to_push = 130000"
   ]
  },
  {
   "cell_type": "code",
   "execution_count": 135,
   "metadata": {},
   "outputs": [
    {
     "name": "stdout",
     "output_type": "stream",
     "text": [
      "Saved 0 variants\n",
      "Saved 10000 variants\n",
      "Saved 20000 variants\n",
      "Saved 30000 variants\n",
      "Saved 40000 variants\n",
      "Saved 50000 variants\n",
      "Saved 60000 variants\n",
      "Saved 70000 variants\n",
      "Saved 80000 variants\n"
     ]
    },
    {
     "ename": "KeyboardInterrupt",
     "evalue": "",
     "output_type": "error",
     "traceback": [
      "\u001b[0;31m---------------------------------------------------------------------------\u001b[0m",
      "\u001b[0;31mKeyboardInterrupt\u001b[0m                         Traceback (most recent call last)",
      "\u001b[0;32m<timed exec>\u001b[0m in \u001b[0;36m<module>\u001b[0;34m\u001b[0m\n",
      "\u001b[0;32m/anaconda2/envs/env36/lib/python3.6/site-packages/py2neo/database.py\u001b[0m in \u001b[0;36mrun\u001b[0;34m(self, cypher, parameters, **kwparameters)\u001b[0m\n\u001b[1;32m    531\u001b[0m         \u001b[0;34m:\u001b[0m\u001b[0;32mreturn\u001b[0m\u001b[0;34m:\u001b[0m\u001b[0;34m\u001b[0m\u001b[0;34m\u001b[0m\u001b[0m\n\u001b[1;32m    532\u001b[0m         \"\"\"\n\u001b[0;32m--> 533\u001b[0;31m         \u001b[0;32mreturn\u001b[0m \u001b[0mself\u001b[0m\u001b[0;34m.\u001b[0m\u001b[0mbegin\u001b[0m\u001b[0;34m(\u001b[0m\u001b[0mautocommit\u001b[0m\u001b[0;34m=\u001b[0m\u001b[0;32mTrue\u001b[0m\u001b[0;34m)\u001b[0m\u001b[0;34m.\u001b[0m\u001b[0mrun\u001b[0m\u001b[0;34m(\u001b[0m\u001b[0mcypher\u001b[0m\u001b[0;34m,\u001b[0m \u001b[0mparameters\u001b[0m\u001b[0;34m,\u001b[0m \u001b[0;34m**\u001b[0m\u001b[0mkwparameters\u001b[0m\u001b[0;34m)\u001b[0m\u001b[0;34m\u001b[0m\u001b[0;34m\u001b[0m\u001b[0m\n\u001b[0m\u001b[1;32m    534\u001b[0m \u001b[0;34m\u001b[0m\u001b[0m\n\u001b[1;32m    535\u001b[0m     \u001b[0;32mdef\u001b[0m \u001b[0mseparate\u001b[0m\u001b[0;34m(\u001b[0m\u001b[0mself\u001b[0m\u001b[0;34m,\u001b[0m \u001b[0msubgraph\u001b[0m\u001b[0;34m)\u001b[0m\u001b[0;34m:\u001b[0m\u001b[0;34m\u001b[0m\u001b[0;34m\u001b[0m\u001b[0m\n",
      "\u001b[0;32m/anaconda2/envs/env36/lib/python3.6/site-packages/py2neo/database.py\u001b[0m in \u001b[0;36mrun\u001b[0;34m(self, cypher, parameters, **kwparameters)\u001b[0m\n\u001b[1;32m    826\u001b[0m                                              \u001b[0mgraph\u001b[0m\u001b[0;34m=\u001b[0m\u001b[0mself\u001b[0m\u001b[0;34m.\u001b[0m\u001b[0mgraph\u001b[0m\u001b[0;34m,\u001b[0m\u001b[0;34m\u001b[0m\u001b[0;34m\u001b[0m\u001b[0m\n\u001b[1;32m    827\u001b[0m                                              \u001b[0mkeys\u001b[0m\u001b[0;34m=\u001b[0m\u001b[0;34m[\u001b[0m\u001b[0;34m]\u001b[0m\u001b[0;34m,\u001b[0m\u001b[0;34m\u001b[0m\u001b[0;34m\u001b[0m\u001b[0m\n\u001b[0;32m--> 828\u001b[0;31m                                              entities=entities))\n\u001b[0m\u001b[1;32m    829\u001b[0m         \u001b[0;32mexcept\u001b[0m \u001b[0mCypherError\u001b[0m \u001b[0;32mas\u001b[0m \u001b[0merror\u001b[0m\u001b[0;34m:\u001b[0m\u001b[0;34m\u001b[0m\u001b[0;34m\u001b[0m\u001b[0m\n\u001b[1;32m    830\u001b[0m             \u001b[0;32mraise\u001b[0m \u001b[0mGraphError\u001b[0m\u001b[0;34m.\u001b[0m\u001b[0mhydrate\u001b[0m\u001b[0;34m(\u001b[0m\u001b[0;34m{\u001b[0m\u001b[0;34m\"code\"\u001b[0m\u001b[0;34m:\u001b[0m \u001b[0merror\u001b[0m\u001b[0;34m.\u001b[0m\u001b[0mcode\u001b[0m\u001b[0;34m,\u001b[0m \u001b[0;34m\"message\"\u001b[0m\u001b[0;34m:\u001b[0m \u001b[0merror\u001b[0m\u001b[0;34m.\u001b[0m\u001b[0mmessage\u001b[0m\u001b[0;34m}\u001b[0m\u001b[0;34m)\u001b[0m\u001b[0;34m\u001b[0m\u001b[0;34m\u001b[0m\u001b[0m\n",
      "\u001b[0;32m/anaconda2/envs/env36/lib/python3.6/site-packages/py2neo/internal/connectors.py\u001b[0m in \u001b[0;36mrun\u001b[0;34m(self, statement, parameters, tx, graph, keys, entities)\u001b[0m\n\u001b[1;32m    290\u001b[0m     \u001b[0;32mdef\u001b[0m \u001b[0mrun\u001b[0m\u001b[0;34m(\u001b[0m\u001b[0mself\u001b[0m\u001b[0;34m,\u001b[0m \u001b[0mstatement\u001b[0m\u001b[0;34m,\u001b[0m \u001b[0mparameters\u001b[0m\u001b[0;34m=\u001b[0m\u001b[0;32mNone\u001b[0m\u001b[0;34m,\u001b[0m \u001b[0mtx\u001b[0m\u001b[0;34m=\u001b[0m\u001b[0;32mNone\u001b[0m\u001b[0;34m,\u001b[0m \u001b[0mgraph\u001b[0m\u001b[0;34m=\u001b[0m\u001b[0;32mNone\u001b[0m\u001b[0;34m,\u001b[0m \u001b[0mkeys\u001b[0m\u001b[0;34m=\u001b[0m\u001b[0;32mNone\u001b[0m\u001b[0;34m,\u001b[0m \u001b[0mentities\u001b[0m\u001b[0;34m=\u001b[0m\u001b[0;32mNone\u001b[0m\u001b[0;34m)\u001b[0m\u001b[0;34m:\u001b[0m\u001b[0;34m\u001b[0m\u001b[0;34m\u001b[0m\u001b[0m\n\u001b[1;32m    291\u001b[0m         \u001b[0;32mif\u001b[0m \u001b[0mtx\u001b[0m \u001b[0;32mis\u001b[0m \u001b[0;32mNone\u001b[0m\u001b[0;34m:\u001b[0m\u001b[0;34m\u001b[0m\u001b[0;34m\u001b[0m\u001b[0m\n\u001b[0;32m--> 292\u001b[0;31m             \u001b[0;32mreturn\u001b[0m \u001b[0mself\u001b[0m\u001b[0;34m.\u001b[0m\u001b[0m_run_1\u001b[0m\u001b[0;34m(\u001b[0m\u001b[0mstatement\u001b[0m\u001b[0;34m,\u001b[0m \u001b[0mparameters\u001b[0m\u001b[0;34m,\u001b[0m \u001b[0mgraph\u001b[0m\u001b[0;34m,\u001b[0m \u001b[0mkeys\u001b[0m\u001b[0;34m,\u001b[0m \u001b[0mentities\u001b[0m\u001b[0;34m)\u001b[0m\u001b[0;34m\u001b[0m\u001b[0;34m\u001b[0m\u001b[0m\n\u001b[0m\u001b[1;32m    293\u001b[0m         \u001b[0;32melse\u001b[0m\u001b[0;34m:\u001b[0m\u001b[0;34m\u001b[0m\u001b[0;34m\u001b[0m\u001b[0m\n\u001b[1;32m    294\u001b[0m             \u001b[0;32mreturn\u001b[0m \u001b[0mself\u001b[0m\u001b[0;34m.\u001b[0m\u001b[0m_run_in_tx\u001b[0m\u001b[0;34m(\u001b[0m\u001b[0mstatement\u001b[0m\u001b[0;34m,\u001b[0m \u001b[0mparameters\u001b[0m\u001b[0;34m,\u001b[0m \u001b[0mtx\u001b[0m\u001b[0;34m,\u001b[0m \u001b[0mgraph\u001b[0m\u001b[0;34m,\u001b[0m \u001b[0mkeys\u001b[0m\u001b[0;34m,\u001b[0m \u001b[0mentities\u001b[0m\u001b[0;34m)\u001b[0m\u001b[0;34m\u001b[0m\u001b[0;34m\u001b[0m\u001b[0m\n",
      "\u001b[0;32m/anaconda2/envs/env36/lib/python3.6/site-packages/py2neo/internal/connectors.py\u001b[0m in \u001b[0;36m_run_1\u001b[0;34m(self, statement, parameters, graph, keys, entities)\u001b[0m\n\u001b[1;32m    253\u001b[0m                     on_success=result.update_metadata, on_failure=self._fail, on_summary=result.done)\n\u001b[1;32m    254\u001b[0m         \u001b[0mcx\u001b[0m\u001b[0;34m.\u001b[0m\u001b[0msend\u001b[0m\u001b[0;34m(\u001b[0m\u001b[0;34m)\u001b[0m\u001b[0;34m\u001b[0m\u001b[0;34m\u001b[0m\u001b[0m\n\u001b[0;32m--> 255\u001b[0;31m         \u001b[0mcx\u001b[0m\u001b[0;34m.\u001b[0m\u001b[0mfetch\u001b[0m\u001b[0;34m(\u001b[0m\u001b[0;34m)\u001b[0m\u001b[0;34m\u001b[0m\u001b[0;34m\u001b[0m\u001b[0m\n\u001b[0m\u001b[1;32m    256\u001b[0m         \u001b[0;32mreturn\u001b[0m \u001b[0mresult\u001b[0m\u001b[0;34m\u001b[0m\u001b[0;34m\u001b[0m\u001b[0m\n\u001b[1;32m    257\u001b[0m \u001b[0;34m\u001b[0m\u001b[0m\n",
      "\u001b[0;32m/anaconda2/envs/env36/lib/python3.6/site-packages/neobolt/direct.py\u001b[0m in \u001b[0;36mfetch\u001b[0;34m(self)\u001b[0m\n\u001b[1;32m    420\u001b[0m     \u001b[0;32mdef\u001b[0m \u001b[0mfetch\u001b[0m\u001b[0;34m(\u001b[0m\u001b[0mself\u001b[0m\u001b[0;34m)\u001b[0m\u001b[0;34m:\u001b[0m\u001b[0;34m\u001b[0m\u001b[0;34m\u001b[0m\u001b[0m\n\u001b[1;32m    421\u001b[0m         \u001b[0;32mtry\u001b[0m\u001b[0;34m:\u001b[0m\u001b[0;34m\u001b[0m\u001b[0;34m\u001b[0m\u001b[0m\n\u001b[0;32m--> 422\u001b[0;31m             \u001b[0;32mreturn\u001b[0m \u001b[0mself\u001b[0m\u001b[0;34m.\u001b[0m\u001b[0m_fetch\u001b[0m\u001b[0;34m(\u001b[0m\u001b[0;34m)\u001b[0m\u001b[0;34m\u001b[0m\u001b[0;34m\u001b[0m\u001b[0m\n\u001b[0m\u001b[1;32m    423\u001b[0m         \u001b[0;32mexcept\u001b[0m \u001b[0mself\u001b[0m\u001b[0;34m.\u001b[0m\u001b[0merror_handler\u001b[0m\u001b[0;34m.\u001b[0m\u001b[0mknown_errors\u001b[0m \u001b[0;32mas\u001b[0m \u001b[0merror\u001b[0m\u001b[0;34m:\u001b[0m\u001b[0;34m\u001b[0m\u001b[0;34m\u001b[0m\u001b[0m\n\u001b[1;32m    424\u001b[0m             \u001b[0mself\u001b[0m\u001b[0;34m.\u001b[0m\u001b[0merror_handler\u001b[0m\u001b[0;34m.\u001b[0m\u001b[0mhandle\u001b[0m\u001b[0;34m(\u001b[0m\u001b[0merror\u001b[0m\u001b[0;34m,\u001b[0m \u001b[0mself\u001b[0m\u001b[0;34m.\u001b[0m\u001b[0munresolved_address\u001b[0m\u001b[0;34m)\u001b[0m\u001b[0;34m\u001b[0m\u001b[0;34m\u001b[0m\u001b[0m\n",
      "\u001b[0;32m/anaconda2/envs/env36/lib/python3.6/site-packages/neobolt/direct.py\u001b[0m in \u001b[0;36m_fetch\u001b[0;34m(self)\u001b[0m\n\u001b[1;32m    441\u001b[0m             \u001b[0;32mreturn\u001b[0m \u001b[0;36m0\u001b[0m\u001b[0;34m,\u001b[0m \u001b[0;36m0\u001b[0m\u001b[0;34m\u001b[0m\u001b[0;34m\u001b[0m\u001b[0m\n\u001b[1;32m    442\u001b[0m \u001b[0;34m\u001b[0m\u001b[0m\n\u001b[0;32m--> 443\u001b[0;31m         \u001b[0mself\u001b[0m\u001b[0;34m.\u001b[0m\u001b[0m_receive\u001b[0m\u001b[0;34m(\u001b[0m\u001b[0;34m)\u001b[0m\u001b[0;34m\u001b[0m\u001b[0;34m\u001b[0m\u001b[0m\n\u001b[0m\u001b[1;32m    444\u001b[0m \u001b[0;34m\u001b[0m\u001b[0m\n\u001b[1;32m    445\u001b[0m         \u001b[0mdetails\u001b[0m\u001b[0;34m,\u001b[0m \u001b[0msummary_signature\u001b[0m\u001b[0;34m,\u001b[0m \u001b[0msummary_metadata\u001b[0m \u001b[0;34m=\u001b[0m \u001b[0mself\u001b[0m\u001b[0;34m.\u001b[0m\u001b[0m_unpack\u001b[0m\u001b[0;34m(\u001b[0m\u001b[0;34m)\u001b[0m\u001b[0;34m\u001b[0m\u001b[0;34m\u001b[0m\u001b[0m\n",
      "\u001b[0;32m/anaconda2/envs/env36/lib/python3.6/site-packages/neobolt/direct.py\u001b[0m in \u001b[0;36m_receive\u001b[0;34m(self)\u001b[0m\n\u001b[1;32m    491\u001b[0m             \u001b[0;32mraise\u001b[0m \u001b[0mself\u001b[0m\u001b[0;34m.\u001b[0m\u001b[0mError\u001b[0m\u001b[0;34m(\u001b[0m\u001b[0mmessage\u001b[0m\u001b[0;34m)\u001b[0m\u001b[0;34m\u001b[0m\u001b[0;34m\u001b[0m\u001b[0m\n\u001b[1;32m    492\u001b[0m         \u001b[0;32melif\u001b[0m \u001b[0mreceived\u001b[0m \u001b[0;34m==\u001b[0m \u001b[0;34m-\u001b[0m\u001b[0;36m1\u001b[0m\u001b[0;34m:\u001b[0m\u001b[0;34m\u001b[0m\u001b[0;34m\u001b[0m\u001b[0m\n\u001b[0;32m--> 493\u001b[0;31m             \u001b[0;32mraise\u001b[0m \u001b[0mKeyboardInterrupt\u001b[0m\u001b[0;34m(\u001b[0m\u001b[0;34m)\u001b[0m\u001b[0;34m\u001b[0m\u001b[0;34m\u001b[0m\u001b[0m\n\u001b[0m\u001b[1;32m    494\u001b[0m \u001b[0;34m\u001b[0m\u001b[0m\n\u001b[1;32m    495\u001b[0m     \u001b[0;32mdef\u001b[0m \u001b[0m_unpack\u001b[0m\u001b[0;34m(\u001b[0m\u001b[0mself\u001b[0m\u001b[0;34m)\u001b[0m\u001b[0;34m:\u001b[0m\u001b[0;34m\u001b[0m\u001b[0;34m\u001b[0m\u001b[0m\n",
      "\u001b[0;31mKeyboardInterrupt\u001b[0m: "
     ]
    }
   ],
   "source": [
    "%%time\n",
    "\n",
    "for i, r in df.iterrows():\n",
    "    create_query = \"\"\"\n",
    "                MERGE (g:Gene {name: \"%(gene_name)s\"})\n",
    "                MERGE (p:Variant {name: \"%(variant)s\", gene_region: \"%(gene_region)s\", freq_1000: %(freq_1000)s})\n",
    "                CREATE (g)-[r:has {variant_type: \"%(variant_type)s\", position: %(position)s}]->(p)\n",
    "                RETURN g, r, p\n",
    "            \"\"\" % {\n",
    "        \"gene_name\": r[\"gene\"],\n",
    "        \"variant\": r[\"dbSNP ID\"],\n",
    "        \"gene_region\": r[\"Gene Region\"],\n",
    "        \"freq_1000\": r[\"1000 Genomes Frequency\"],\n",
    "        \"variant_type\": r[\"Variation Type\"],\n",
    "        \"position\": r[\"Position\"]\n",
    "    }\n",
    "    graph.run(create_query)\n",
    "\n",
    "    if i % 10000 == 0:\n",
    "        print(\"Saved {} variants\".format(i))"
   ]
  },
  {
   "cell_type": "markdown",
   "metadata": {},
   "source": [
    "Intentionally interrupted the push after 6 hours as this is only a hackathon demo with real data! But this can be continued for real analysis"
   ]
  },
  {
   "cell_type": "markdown",
   "metadata": {},
   "source": [
    "### Analyse"
   ]
  },
  {
   "cell_type": "code",
   "execution_count": 141,
   "metadata": {},
   "outputs": [
    {
     "data": {
      "text/html": [
       "<table><tr><th>TotalVariants</th></tr><tr><td style=\"text-align:right\">73339</td></tr></table>"
      ],
      "text/plain": [
       " TotalVariants \n",
       "---------------\n",
       "         73339 "
      ]
     },
     "execution_count": 141,
     "metadata": {},
     "output_type": "execute_result"
    }
   ],
   "source": [
    "graph.run(\"\"\"\n",
    "    MATCH (v:Variant)\n",
    "    RETURN COUNT(v) as TotalVariants\n",
    "\"\"\").to_table()"
   ]
  },
  {
   "cell_type": "markdown",
   "metadata": {},
   "source": [
    "As we interrupted the transaction, it may lead to inconsistent data. Let's find out how many Variants have proper names"
   ]
  },
  {
   "cell_type": "code",
   "execution_count": 143,
   "metadata": {},
   "outputs": [
    {
     "data": {
      "text/html": [
       "<table><tr><th>Count</th></tr><tr><td style=\"text-align:right\">73268</td></tr></table>"
      ],
      "text/plain": [
       " Count \n",
       "-------\n",
       " 73268 "
      ]
     },
     "execution_count": 143,
     "metadata": {},
     "output_type": "execute_result"
    }
   ],
   "source": [
    "graph.run(\"\"\"\n",
    "    match (p:Variant)\n",
    "    where p.name <> \"nan\"\n",
    "    return count(p) as Count\n",
    "\"\"\").to_table()"
   ]
  },
  {
   "cell_type": "markdown",
   "metadata": {},
   "source": [
    "List the topk genes based on number of variants it is has"
   ]
  },
  {
   "cell_type": "code",
   "execution_count": 138,
   "metadata": {},
   "outputs": [
    {
     "data": {
      "text/html": [
       "<table><tr><th>Gene</th><th>NumVariants</th></tr><tr><td style=\"text-align:left\">RP3-401D24.1</td><td style=\"text-align:right\">3676</td></tr><tr><td style=\"text-align:left\">RP11-527N12.2</td><td style=\"text-align:right\">1661</td></tr><tr><td style=\"text-align:left\">RPL23AP49</td><td style=\"text-align:right\">1297</td></tr><tr><td style=\"text-align:left\">ANKRD30BL</td><td style=\"text-align:right\">609</td></tr><tr><td style=\"text-align:left\">ROBO2</td><td style=\"text-align:right\">489</td></tr><tr><td style=\"text-align:left\">DLGAP2</td><td style=\"text-align:right\">475</td></tr><tr><td style=\"text-align:left\">RP11-764K9.1</td><td style=\"text-align:right\">449</td></tr><tr><td style=\"text-align:left\">RBFOX1</td><td style=\"text-align:right\">400</td></tr><tr><td style=\"text-align:left\">AC011288.2</td><td style=\"text-align:right\">336</td></tr><tr><td style=\"text-align:left\">LINC00960</td><td style=\"text-align:right\">320</td></tr></table>"
      ],
      "text/plain": [
       " Gene          | NumVariants \n",
       "---------------|-------------\n",
       " RP3-401D24.1  |        3676 \n",
       " RP11-527N12.2 |        1661 \n",
       " RPL23AP49     |        1297 \n",
       " ANKRD30BL     |         609 \n",
       " ROBO2         |         489 \n",
       " DLGAP2        |         475 \n",
       " RP11-764K9.1  |         449 \n",
       " RBFOX1        |         400 \n",
       " AC011288.2    |         336 \n",
       " LINC00960     |         320 "
      ]
     },
     "execution_count": 138,
     "metadata": {},
     "output_type": "execute_result"
    }
   ],
   "source": [
    "graph.run(\"\"\"\n",
    "    MATCH (k)\n",
    "    WITH k, size((k:Gene)-[:has]->(:Variant)) as out_degree\n",
    "    order by out_degree desc\n",
    "    RETURN k.name as Gene, out_degree as NumVariants\n",
    "    limit 10;\n",
    "\"\"\").to_table()"
   ]
  },
  {
   "cell_type": "markdown",
   "metadata": {},
   "source": [
    "List the topk variants based on number genes it can originate from"
   ]
  },
  {
   "cell_type": "code",
   "execution_count": 139,
   "metadata": {},
   "outputs": [
    {
     "data": {
      "text/html": [
       "<table><tr><th>Variant</th><th>NumGenesConnectedTo</th></tr><tr><td style=\"text-align:left\">nan</td><td style=\"text-align:right\">11377</td></tr><tr><td style=\"text-align:left\">nan</td><td style=\"text-align:right\">1702</td></tr><tr><td style=\"text-align:left\">nan</td><td style=\"text-align:right\">715</td></tr><tr><td style=\"text-align:left\">nan</td><td style=\"text-align:right\">377</td></tr><tr><td style=\"text-align:left\">nan</td><td style=\"text-align:right\">288</td></tr><tr><td style=\"text-align:left\">nan</td><td style=\"text-align:right\">219</td></tr><tr><td style=\"text-align:left\">nan</td><td style=\"text-align:right\">143</td></tr><tr><td style=\"text-align:left\">nan</td><td style=\"text-align:right\">75</td></tr><tr><td style=\"text-align:left\">nan</td><td style=\"text-align:right\">73</td></tr><tr><td style=\"text-align:left\">nan</td><td style=\"text-align:right\">68</td></tr></table>"
      ],
      "text/plain": [
       " Variant | NumGenesConnectedTo \n",
       "---------|---------------------\n",
       " nan     |               11377 \n",
       " nan     |                1702 \n",
       " nan     |                 715 \n",
       " nan     |                 377 \n",
       " nan     |                 288 \n",
       " nan     |                 219 \n",
       " nan     |                 143 \n",
       " nan     |                  75 \n",
       " nan     |                  73 \n",
       " nan     |                  68 "
      ]
     },
     "execution_count": 139,
     "metadata": {},
     "output_type": "execute_result"
    }
   ],
   "source": [
    "graph.run(\"\"\"\n",
    "    match (p:Variant)\n",
    "    with p, size((p)<--(:Gene)) as in_degree\n",
    "    order by in_degree desc\n",
    "    return p.name as Variant, in_degree as NumGenesConnectedTo\n",
    "    limit 10\n",
    "\"\"\").to_table()"
   ]
  },
  {
   "cell_type": "markdown",
   "metadata": {},
   "source": [
    "Unfortunately the top variants were corrupted due to interrupting the push to Neo4j. This should'nt happen if you are not impatient like me ;)"
   ]
  },
  {
   "cell_type": "code",
   "execution_count": 144,
   "metadata": {},
   "outputs": [
    {
     "data": {
      "text/html": [
       "<table><tr><th>Variant</th><th>NumGenesConnectedTo</th></tr><tr><td style=\"text-align:left\">150742635</td><td style=\"text-align:right\">2</td></tr><tr><td style=\"text-align:left\">745940570</td><td style=\"text-align:right\">2</td></tr><tr><td style=\"text-align:left\">5772795</td><td style=\"text-align:right\">2</td></tr><tr><td style=\"text-align:left\">1308241295</td><td style=\"text-align:right\">2</td></tr><tr><td style=\"text-align:left\">138391066</td><td style=\"text-align:right\">2</td></tr><tr><td style=\"text-align:left\">534012370</td><td style=\"text-align:right\">2</td></tr><tr><td style=\"text-align:left\">10627733; 61318853</td><td style=\"text-align:right\">2</td></tr><tr><td style=\"text-align:left\">769715669</td><td style=\"text-align:right\">2</td></tr><tr><td style=\"text-align:left\">569177720</td><td style=\"text-align:right\">2</td></tr><tr><td style=\"text-align:left\">1182512551</td><td style=\"text-align:right\">2</td></tr></table>"
      ],
      "text/plain": [
       " Variant            | NumGenesConnectedTo \n",
       "--------------------|---------------------\n",
       " 150742635          |                   2 \n",
       " 745940570          |                   2 \n",
       " 5772795            |                   2 \n",
       " 1308241295         |                   2 \n",
       " 138391066          |                   2 \n",
       " 534012370          |                   2 \n",
       " 10627733; 61318853 |                   2 \n",
       " 769715669          |                   2 \n",
       " 569177720          |                   2 \n",
       " 1182512551         |                   2 "
      ]
     },
     "execution_count": 144,
     "metadata": {},
     "output_type": "execute_result"
    }
   ],
   "source": [
    "graph.run(\"\"\"\n",
    "    match (p:Variant)\n",
    "    where p.name <> \"nan\"\n",
    "    with p, size((p)<--(:Gene)) as in_degree\n",
    "    order by in_degree desc\n",
    "    return p.name as Variant, in_degree as NumGenesConnectedTo\n",
    "    limit 10\n",
    "\"\"\").to_table()"
   ]
  },
  {
   "cell_type": "markdown",
   "metadata": {},
   "source": [
    "Topk variants with high variation when compared with 1000 Genomes"
   ]
  },
  {
   "cell_type": "code",
   "execution_count": 151,
   "metadata": {},
   "outputs": [
    {
     "data": {
      "text/html": [
       "<table><tr><th>High_1000Genome_Freq</th><th>Frequency</th></tr><tr><td style=\"text-align:left\">148998172</td><td style=\"text-align:right\">0.998</td></tr><tr><td style=\"text-align:left\">147710418</td><td style=\"text-align:right\">0.998</td></tr><tr><td style=\"text-align:left\">114061453</td><td style=\"text-align:right\">0.998</td></tr><tr><td style=\"text-align:left\">374295176</td><td style=\"text-align:right\">0.998</td></tr><tr><td style=\"text-align:left\">151318499</td><td style=\"text-align:right\">0.998</td></tr><tr><td style=\"text-align:left\">76519324</td><td style=\"text-align:right\">0.998</td></tr><tr><td style=\"text-align:left\">35292627</td><td style=\"text-align:right\">0.998</td></tr><tr><td style=\"text-align:left\">189824902</td><td style=\"text-align:right\">0.998</td></tr><tr><td style=\"text-align:left\">562273208</td><td style=\"text-align:right\">0.998</td></tr><tr><td style=\"text-align:left\">3733531</td><td style=\"text-align:right\">0.998</td></tr></table>"
      ],
      "text/plain": [
       " High_1000Genome_Freq | Frequency \n",
       "----------------------|-----------\n",
       " 148998172            |     0.998 \n",
       " 147710418            |     0.998 \n",
       " 114061453            |     0.998 \n",
       " 374295176            |     0.998 \n",
       " 151318499            |     0.998 \n",
       " 76519324             |     0.998 \n",
       " 35292627             |     0.998 \n",
       " 189824902            |     0.998 \n",
       " 562273208            |     0.998 \n",
       " 3733531              |     0.998 "
      ]
     },
     "execution_count": 151,
     "metadata": {},
     "output_type": "execute_result"
    }
   ],
   "source": [
    "graph.run(\"\"\"\n",
    "    match (v:Variant)\n",
    "    return v.name as High_1000Genome_Freq, v.freq_1000 as Frequency\n",
    "    order by Frequency DESC\n",
    "    limit 10\n",
    "\"\"\").to_table()"
   ]
  },
  {
   "cell_type": "markdown",
   "metadata": {},
   "source": [
    "## Interactive Visualization"
   ]
  },
  {
   "cell_type": "markdown",
   "metadata": {},
   "source": [
    "One of the biggest strengths of Neo4j besides scaling is its in-built visualization tool. The tool can be launched by pushing \"Launch Browser\" button in the \"Details\" page on Sandbox page.\n",
    "\n",
    "Once the browser is open, besides all the above queries, queries which return not just tables of information, but sub-graphs from entire graphs can be visualized in an interactive manner.\n",
    "\n",
    "Checkout the screen recording to get a glimpse of what's possible"
   ]
  },
  {
   "cell_type": "markdown",
   "metadata": {},
   "source": [
    "<img src=\"https://drive.google.com/uc?export=view&id=1Q95tj5VmKLdA1uqW_pQbFJgeUKE2x6zt\" alt=\"example neo4j sandbox snapshot\" />"
   ]
  },
  {
   "cell_type": "markdown",
   "metadata": {},
   "source": [
    "That's all folks! Let's hope this helps solve John's case :)"
   ]
  }
 ],
 "metadata": {
  "kernelspec": {
   "display_name": "Python 3",
   "language": "python",
   "name": "python3"
  },
  "language_info": {
   "codemirror_mode": {
    "name": "ipython",
    "version": 3
   },
   "file_extension": ".py",
   "mimetype": "text/x-python",
   "name": "python",
   "nbconvert_exporter": "python",
   "pygments_lexer": "ipython3",
   "version": "3.6.8"
  },
  "toc": {
   "base_numbering": 1,
   "nav_menu": {},
   "number_sections": false,
   "sideBar": true,
   "skip_h1_title": true,
   "title_cell": "Table of Contents",
   "title_sidebar": "Contents",
   "toc_cell": false,
   "toc_position": {
    "height": "calc(100% - 180px)",
    "left": "10px",
    "top": "150px",
    "width": "223px"
   },
   "toc_section_display": true,
   "toc_window_display": true
  }
 },
 "nbformat": 4,
 "nbformat_minor": 2
}
